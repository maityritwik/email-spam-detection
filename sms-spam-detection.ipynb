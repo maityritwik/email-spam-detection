{
 "cells": [
  {
   "cell_type": "code",
   "execution_count": 42,
   "id": "0000f248-52b4-4d32-b661-09f8290b3444",
   "metadata": {},
   "outputs": [],
   "source": [
    "import numpy as np\n",
    "import pandas as pd\n",
    "import seaborn as sns"
   ]
  },
  {
   "cell_type": "code",
   "execution_count": 2,
   "id": "308f6999-5da3-4674-9a53-943acc5099e3",
   "metadata": {},
   "outputs": [],
   "source": [
    "df = pd.read_csv(\"C:/Users/maity/Python/MLprojects/SmsSpamClassifier/spam.csv\", encoding='ISO-8859-1')"
   ]
  },
  {
   "cell_type": "code",
   "execution_count": 3,
   "id": "ca915178-2247-4699-b58b-36033caa1057",
   "metadata": {},
   "outputs": [
    {
     "data": {
      "text/plain": [
       "(5572, 5)"
      ]
     },
     "execution_count": 3,
     "metadata": {},
     "output_type": "execute_result"
    }
   ],
   "source": [
    "df.shape"
   ]
  },
  {
   "cell_type": "code",
   "execution_count": 4,
   "id": "632ff357-6e8a-414f-8c69-b6cbf56431ad",
   "metadata": {},
   "outputs": [
    {
     "data": {
      "text/html": [
       "<div>\n",
       "<style scoped>\n",
       "    .dataframe tbody tr th:only-of-type {\n",
       "        vertical-align: middle;\n",
       "    }\n",
       "\n",
       "    .dataframe tbody tr th {\n",
       "        vertical-align: top;\n",
       "    }\n",
       "\n",
       "    .dataframe thead th {\n",
       "        text-align: right;\n",
       "    }\n",
       "</style>\n",
       "<table border=\"1\" class=\"dataframe\">\n",
       "  <thead>\n",
       "    <tr style=\"text-align: right;\">\n",
       "      <th></th>\n",
       "      <th>v1</th>\n",
       "      <th>v2</th>\n",
       "      <th>Unnamed: 2</th>\n",
       "      <th>Unnamed: 3</th>\n",
       "      <th>Unnamed: 4</th>\n",
       "    </tr>\n",
       "  </thead>\n",
       "  <tbody>\n",
       "    <tr>\n",
       "      <th>1534</th>\n",
       "      <td>ham</td>\n",
       "      <td>Remember on that day..</td>\n",
       "      <td>NaN</td>\n",
       "      <td>NaN</td>\n",
       "      <td>NaN</td>\n",
       "    </tr>\n",
       "    <tr>\n",
       "      <th>2081</th>\n",
       "      <td>ham</td>\n",
       "      <td>I'm aight. Wat's happening on your side.</td>\n",
       "      <td>NaN</td>\n",
       "      <td>NaN</td>\n",
       "      <td>NaN</td>\n",
       "    </tr>\n",
       "    <tr>\n",
       "      <th>427</th>\n",
       "      <td>ham</td>\n",
       "      <td>Any pain on urination any thing else?</td>\n",
       "      <td>NaN</td>\n",
       "      <td>NaN</td>\n",
       "      <td>NaN</td>\n",
       "    </tr>\n",
       "    <tr>\n",
       "      <th>1465</th>\n",
       "      <td>spam</td>\n",
       "      <td>YOU 07801543489 are guaranteed the latests Nok...</td>\n",
       "      <td>NaN</td>\n",
       "      <td>NaN</td>\n",
       "      <td>NaN</td>\n",
       "    </tr>\n",
       "    <tr>\n",
       "      <th>366</th>\n",
       "      <td>spam</td>\n",
       "      <td>Update_Now - Xmas Offer! Latest Motorola, Sony...</td>\n",
       "      <td>NaN</td>\n",
       "      <td>NaN</td>\n",
       "      <td>NaN</td>\n",
       "    </tr>\n",
       "    <tr>\n",
       "      <th>892</th>\n",
       "      <td>ham</td>\n",
       "      <td>Nutter. Cutter. Ctter. Cttergg. Cttargg. Ctarg...</td>\n",
       "      <td>NaN</td>\n",
       "      <td>NaN</td>\n",
       "      <td>NaN</td>\n",
       "    </tr>\n",
       "  </tbody>\n",
       "</table>\n",
       "</div>"
      ],
      "text/plain": [
       "        v1                                                 v2 Unnamed: 2  \\\n",
       "1534   ham                             Remember on that day..        NaN   \n",
       "2081   ham           I'm aight. Wat's happening on your side.        NaN   \n",
       "427    ham              Any pain on urination any thing else?        NaN   \n",
       "1465  spam  YOU 07801543489 are guaranteed the latests Nok...        NaN   \n",
       "366   spam  Update_Now - Xmas Offer! Latest Motorola, Sony...        NaN   \n",
       "892    ham  Nutter. Cutter. Ctter. Cttergg. Cttargg. Ctarg...        NaN   \n",
       "\n",
       "     Unnamed: 3 Unnamed: 4  \n",
       "1534        NaN        NaN  \n",
       "2081        NaN        NaN  \n",
       "427         NaN        NaN  \n",
       "1465        NaN        NaN  \n",
       "366         NaN        NaN  \n",
       "892         NaN        NaN  "
      ]
     },
     "execution_count": 4,
     "metadata": {},
     "output_type": "execute_result"
    }
   ],
   "source": [
    "df.sample(6)"
   ]
  },
  {
   "cell_type": "markdown",
   "id": "7db8de55-5550-4ef0-8451-8d902736b080",
   "metadata": {},
   "source": [
    "# Data Cleaning"
   ]
  },
  {
   "cell_type": "code",
   "execution_count": 5,
   "id": "2e846fd4-8bef-49c8-935e-5a30695b4574",
   "metadata": {},
   "outputs": [
    {
     "name": "stdout",
     "output_type": "stream",
     "text": [
      "<class 'pandas.core.frame.DataFrame'>\n",
      "RangeIndex: 5572 entries, 0 to 5571\n",
      "Data columns (total 5 columns):\n",
      " #   Column      Non-Null Count  Dtype \n",
      "---  ------      --------------  ----- \n",
      " 0   v1          5572 non-null   object\n",
      " 1   v2          5572 non-null   object\n",
      " 2   Unnamed: 2  50 non-null     object\n",
      " 3   Unnamed: 3  12 non-null     object\n",
      " 4   Unnamed: 4  6 non-null      object\n",
      "dtypes: object(5)\n",
      "memory usage: 217.8+ KB\n"
     ]
    }
   ],
   "source": [
    "df.info()"
   ]
  },
  {
   "cell_type": "markdown",
   "id": "406edb8a-3648-481c-a324-f974ec88d139",
   "metadata": {},
   "source": [
    "- As the last three columns that is 'Unnamed: 2', 'Unnamed: 3' and 'Unnamed: 4' has maximum number of null-values so drop those columns is the best decision."
   ]
  },
  {
   "cell_type": "code",
   "execution_count": 6,
   "id": "377e8471-8f21-49d9-ba0e-f06de545cc57",
   "metadata": {},
   "outputs": [],
   "source": [
    "# Now drop last 3 columns\n",
    "df.drop(columns=['Unnamed: 2','Unnamed: 3','Unnamed: 4'], inplace=True)"
   ]
  },
  {
   "cell_type": "markdown",
   "id": "0fd1a981-ee9c-4fa6-9408-028692652e09",
   "metadata": {},
   "source": [
    "- The columns aname are not descrive any thing about the data, we can change the name of it. Using dictionary."
   ]
  },
  {
   "cell_type": "code",
   "execution_count": 7,
   "id": "4be47636-0195-4fb3-8e41-63463343f69c",
   "metadata": {},
   "outputs": [],
   "source": [
    "# Renameing the columns\n",
    "df.rename(columns={'v1':'target','v2':'text'},inplace=True)"
   ]
  },
  {
   "cell_type": "code",
   "execution_count": 8,
   "id": "95d221f7-b302-4e38-a916-b54fde396413",
   "metadata": {},
   "outputs": [
    {
     "data": {
      "text/html": [
       "<div>\n",
       "<style scoped>\n",
       "    .dataframe tbody tr th:only-of-type {\n",
       "        vertical-align: middle;\n",
       "    }\n",
       "\n",
       "    .dataframe tbody tr th {\n",
       "        vertical-align: top;\n",
       "    }\n",
       "\n",
       "    .dataframe thead th {\n",
       "        text-align: right;\n",
       "    }\n",
       "</style>\n",
       "<table border=\"1\" class=\"dataframe\">\n",
       "  <thead>\n",
       "    <tr style=\"text-align: right;\">\n",
       "      <th></th>\n",
       "      <th>target</th>\n",
       "      <th>text</th>\n",
       "    </tr>\n",
       "  </thead>\n",
       "  <tbody>\n",
       "    <tr>\n",
       "      <th>1119</th>\n",
       "      <td>spam</td>\n",
       "      <td>Bored of speed dating? Try SPEEDCHAT, txt SPEE...</td>\n",
       "    </tr>\n",
       "    <tr>\n",
       "      <th>3180</th>\n",
       "      <td>ham</td>\n",
       "      <td>So many people seems to be special at first si...</td>\n",
       "    </tr>\n",
       "    <tr>\n",
       "      <th>4648</th>\n",
       "      <td>ham</td>\n",
       "      <td>Please protect yourself from e-threats. SIB ne...</td>\n",
       "    </tr>\n",
       "    <tr>\n",
       "      <th>1141</th>\n",
       "      <td>spam</td>\n",
       "      <td>I don't know u and u don't know me. Send CHAT ...</td>\n",
       "    </tr>\n",
       "    <tr>\n",
       "      <th>4286</th>\n",
       "      <td>ham</td>\n",
       "      <td>I wud never mind if u dont miss me or if u don...</td>\n",
       "    </tr>\n",
       "  </tbody>\n",
       "</table>\n",
       "</div>"
      ],
      "text/plain": [
       "     target                                               text\n",
       "1119   spam  Bored of speed dating? Try SPEEDCHAT, txt SPEE...\n",
       "3180    ham  So many people seems to be special at first si...\n",
       "4648    ham  Please protect yourself from e-threats. SIB ne...\n",
       "1141   spam  I don't know u and u don't know me. Send CHAT ...\n",
       "4286    ham  I wud never mind if u dont miss me or if u don..."
      ]
     },
     "execution_count": 8,
     "metadata": {},
     "output_type": "execute_result"
    }
   ],
   "source": [
    "df.sample(5)"
   ]
  },
  {
   "cell_type": "markdown",
   "id": "667b1fbe-17df-44bc-93fa-e2c4a6de3c95",
   "metadata": {},
   "source": [
    "- In the target column, we need to encode it, so I use LableEncoder"
   ]
  },
  {
   "cell_type": "code",
   "execution_count": 9,
   "id": "97a974da-c398-464e-95a4-771d1c1b2b64",
   "metadata": {},
   "outputs": [],
   "source": [
    "from sklearn.preprocessing import LabelEncoder\n",
    "encoder = LabelEncoder()"
   ]
  },
  {
   "cell_type": "code",
   "execution_count": 10,
   "id": "1e97d94a-b9a6-4680-938f-430e13096847",
   "metadata": {},
   "outputs": [],
   "source": [
    "# NOw encode the 'target' column\n",
    "df['target'] = encoder.fit_transform(df['target'])"
   ]
  },
  {
   "cell_type": "code",
   "execution_count": 11,
   "id": "3c838dc8-971b-494a-b395-48a36378d6f8",
   "metadata": {},
   "outputs": [
    {
     "data": {
      "text/html": [
       "<div>\n",
       "<style scoped>\n",
       "    .dataframe tbody tr th:only-of-type {\n",
       "        vertical-align: middle;\n",
       "    }\n",
       "\n",
       "    .dataframe tbody tr th {\n",
       "        vertical-align: top;\n",
       "    }\n",
       "\n",
       "    .dataframe thead th {\n",
       "        text-align: right;\n",
       "    }\n",
       "</style>\n",
       "<table border=\"1\" class=\"dataframe\">\n",
       "  <thead>\n",
       "    <tr style=\"text-align: right;\">\n",
       "      <th></th>\n",
       "      <th>target</th>\n",
       "      <th>text</th>\n",
       "    </tr>\n",
       "  </thead>\n",
       "  <tbody>\n",
       "    <tr>\n",
       "      <th>0</th>\n",
       "      <td>0</td>\n",
       "      <td>Go until jurong point, crazy.. Available only ...</td>\n",
       "    </tr>\n",
       "    <tr>\n",
       "      <th>1</th>\n",
       "      <td>0</td>\n",
       "      <td>Ok lar... Joking wif u oni...</td>\n",
       "    </tr>\n",
       "    <tr>\n",
       "      <th>2</th>\n",
       "      <td>1</td>\n",
       "      <td>Free entry in 2 a wkly comp to win FA Cup fina...</td>\n",
       "    </tr>\n",
       "    <tr>\n",
       "      <th>3</th>\n",
       "      <td>0</td>\n",
       "      <td>U dun say so early hor... U c already then say...</td>\n",
       "    </tr>\n",
       "    <tr>\n",
       "      <th>4</th>\n",
       "      <td>0</td>\n",
       "      <td>Nah I don't think he goes to usf, he lives aro...</td>\n",
       "    </tr>\n",
       "  </tbody>\n",
       "</table>\n",
       "</div>"
      ],
      "text/plain": [
       "   target                                               text\n",
       "0       0  Go until jurong point, crazy.. Available only ...\n",
       "1       0                      Ok lar... Joking wif u oni...\n",
       "2       1  Free entry in 2 a wkly comp to win FA Cup fina...\n",
       "3       0  U dun say so early hor... U c already then say...\n",
       "4       0  Nah I don't think he goes to usf, he lives aro..."
      ]
     },
     "execution_count": 11,
     "metadata": {},
     "output_type": "execute_result"
    }
   ],
   "source": [
    "df.head()"
   ]
  },
  {
   "cell_type": "markdown",
   "id": "75acb01e-bf17-48cd-bd1d-f6d6f9bba4c0",
   "metadata": {},
   "source": [
    "- 'ham' value gives us the 0, and 'spam' gives us 1"
   ]
  },
  {
   "cell_type": "code",
   "execution_count": 12,
   "id": "e2591077-2525-418f-ad65-6cb3ab652249",
   "metadata": {},
   "outputs": [
    {
     "data": {
      "text/plain": [
       "target    0\n",
       "text      0\n",
       "dtype: int64"
      ]
     },
     "execution_count": 12,
     "metadata": {},
     "output_type": "execute_result"
    }
   ],
   "source": [
    "# missing values\n",
    "df.isnull().sum()"
   ]
  },
  {
   "cell_type": "code",
   "execution_count": 13,
   "id": "a05cb3fc-1475-4e45-beb2-9296fa32fdc5",
   "metadata": {},
   "outputs": [
    {
     "data": {
      "text/plain": [
       "403"
      ]
     },
     "execution_count": 13,
     "metadata": {},
     "output_type": "execute_result"
    }
   ],
   "source": [
    "# check for duplicate values\n",
    "df.duplicated().sum()"
   ]
  },
  {
   "cell_type": "code",
   "execution_count": 14,
   "id": "c845aa99-e840-4bb5-87b4-a047f4e080ad",
   "metadata": {},
   "outputs": [],
   "source": [
    "# remove duplicates\n",
    "df = df.drop_duplicates(keep='first')"
   ]
  },
  {
   "cell_type": "code",
   "execution_count": 15,
   "id": "4166a511-eff9-4d4d-a456-3437c08ff756",
   "metadata": {},
   "outputs": [
    {
     "data": {
      "text/plain": [
       "0"
      ]
     },
     "execution_count": 15,
     "metadata": {},
     "output_type": "execute_result"
    }
   ],
   "source": [
    "df.duplicated().sum()"
   ]
  },
  {
   "cell_type": "code",
   "execution_count": 16,
   "id": "a91c9d2f-6656-43d5-9f2b-30eb59b4de10",
   "metadata": {},
   "outputs": [
    {
     "data": {
      "text/plain": [
       "(5169, 2)"
      ]
     },
     "execution_count": 16,
     "metadata": {},
     "output_type": "execute_result"
    }
   ],
   "source": [
    "df.shape"
   ]
  },
  {
   "cell_type": "markdown",
   "id": "4a5843c4-8cfa-4059-8c08-64c16c86933f",
   "metadata": {},
   "source": [
    "# EDA\n",
    "- For predictive modling, we need some understanding about our data that is whay we perform EDA."
   ]
  },
  {
   "cell_type": "code",
   "execution_count": 17,
   "id": "15a3b741-f5bd-4e16-90ab-5f4032e66a3c",
   "metadata": {},
   "outputs": [
    {
     "data": {
      "text/plain": [
       "target\n",
       "0    4516\n",
       "1     653\n",
       "Name: count, dtype: int64"
      ]
     },
     "execution_count": 17,
     "metadata": {},
     "output_type": "execute_result"
    }
   ],
   "source": [
    "df['target'].value_counts()"
   ]
  },
  {
   "cell_type": "code",
   "execution_count": 18,
   "id": "4b41ea7c-1d72-49ca-9da8-049175f56f4c",
   "metadata": {},
   "outputs": [
    {
     "data": {
      "image/png": "[encoded data removed]",
      "text/plain": [
       "<Figure size 640x480 with 1 Axes>"
      ]
     },
     "metadata": {},
     "output_type": "display_data"
    }
   ],
   "source": [
    "import matplotlib.pyplot as plt\n",
    "plt.pie(df['target'].value_counts(), labels=['ham','spam'],autopct=\"%0.2f\")\n",
    "plt.show()"
   ]
  },
  {
   "cell_type": "markdown",
   "id": "f2099a1f-23bc-46b2-b5b9-d313cb096154",
   "metadata": {},
   "source": [
    "- We clearly see that our data is imbalanced"
   ]
  },
  {
   "cell_type": "code",
   "execution_count": 19,
   "id": "41acd1db-6833-4a24-9857-77d5cd02b6ce",
   "metadata": {},
   "outputs": [
    {
     "name": "stdout",
     "output_type": "stream",
     "text": [
      "Requirement already satisfied: nltk in c:\\users\\maity\\appdata\\local\\anaconda3\\lib\\site-packages (3.9.1)\n",
      "Requirement already satisfied: click in c:\\users\\maity\\appdata\\local\\anaconda3\\lib\\site-packages (from nltk) (8.1.7)\n",
      "Requirement already satisfied: joblib in c:\\users\\maity\\appdata\\local\\anaconda3\\lib\\site-packages (from nltk) (1.4.2)\n",
      "Requirement already satisfied: regex>=2021.8.3 in c:\\users\\maity\\appdata\\local\\anaconda3\\lib\\site-packages (from nltk) (2024.9.11)\n",
      "Requirement already satisfied: tqdm in c:\\users\\maity\\appdata\\local\\anaconda3\\lib\\site-packages (from nltk) (4.66.5)\n",
      "Requirement already satisfied: colorama in c:\\users\\maity\\appdata\\local\\anaconda3\\lib\\site-packages (from click->nltk) (0.4.6)\n"
     ]
    }
   ],
   "source": [
    "!pip install nltk"
   ]
  },
  {
   "cell_type": "code",
   "execution_count": 20,
   "id": "77eb7255-99a0-4214-ab5f-ecb36450b121",
   "metadata": {},
   "outputs": [],
   "source": [
    "import nltk"
   ]
  },
  {
   "cell_type": "code",
   "execution_count": 21,
   "id": "ef3db105-a8b7-428c-9b48-82633489bef3",
   "metadata": {},
   "outputs": [
    {
     "name": "stderr",
     "output_type": "stream",
     "text": [
      "[nltk_data] Downloading package punkt to\n",
      "[nltk_data]     C:\\Users\\maity\\AppData\\Local\\anaconda3\\nltk_data...\n",
      "[nltk_data]   Package punkt is already up-to-date!\n"
     ]
    },
    {
     "data": {
      "text/plain": [
       "True"
      ]
     },
     "execution_count": 21,
     "metadata": {},
     "output_type": "execute_result"
    }
   ],
   "source": [
    "nltk.download('punkt')"
   ]
  },
  {
   "cell_type": "code",
   "execution_count": 22,
   "id": "5bd2fdc6-d60f-45e8-8af1-b7f812343598",
   "metadata": {},
   "outputs": [
    {
     "name": "stderr",
     "output_type": "stream",
     "text": [
      "[nltk_data] Downloading package stopwords to\n",
      "[nltk_data]     C:\\Users\\maity\\AppData\\Local\\anaconda3\\nltk_data...\n",
      "[nltk_data]   Unzipping corpora\\stopwords.zip.\n"
     ]
    },
    {
     "data": {
      "text/plain": [
       "True"
      ]
     },
     "execution_count": 22,
     "metadata": {},
     "output_type": "execute_result"
    }
   ],
   "source": [
    "from nltk.corpus import stopwords\n",
    "nltk.download('stopwords')"
   ]
  },
  {
   "cell_type": "code",
   "execution_count": 23,
   "id": "89340110-054a-47d1-9fe5-b11bb36ac62a",
   "metadata": {},
   "outputs": [],
   "source": [
    "from nltk.tokenize import word_tokenize"
   ]
  },
  {
   "cell_type": "code",
   "execution_count": 24,
   "id": "1b0673f1-a015-4c3f-9a55-85aea84fc754",
   "metadata": {},
   "outputs": [],
   "source": [
    "df['num_characters'] = df['text'].apply(len)"
   ]
  },
  {
   "cell_type": "code",
   "execution_count": 25,
   "id": "026971d0-e378-40f3-9fef-1c217feeb1b3",
   "metadata": {},
   "outputs": [
    {
     "data": {
      "text/html": [
       "<div>\n",
       "<style scoped>\n",
       "    .dataframe tbody tr th:only-of-type {\n",
       "        vertical-align: middle;\n",
       "    }\n",
       "\n",
       "    .dataframe tbody tr th {\n",
       "        vertical-align: top;\n",
       "    }\n",
       "\n",
       "    .dataframe thead th {\n",
       "        text-align: right;\n",
       "    }\n",
       "</style>\n",
       "<table border=\"1\" class=\"dataframe\">\n",
       "  <thead>\n",
       "    <tr style=\"text-align: right;\">\n",
       "      <th></th>\n",
       "      <th>target</th>\n",
       "      <th>text</th>\n",
       "      <th>num_characters</th>\n",
       "    </tr>\n",
       "  </thead>\n",
       "  <tbody>\n",
       "    <tr>\n",
       "      <th>0</th>\n",
       "      <td>0</td>\n",
       "      <td>Go until jurong point, crazy.. Available only ...</td>\n",
       "      <td>111</td>\n",
       "    </tr>\n",
       "    <tr>\n",
       "      <th>1</th>\n",
       "      <td>0</td>\n",
       "      <td>Ok lar... Joking wif u oni...</td>\n",
       "      <td>29</td>\n",
       "    </tr>\n",
       "    <tr>\n",
       "      <th>2</th>\n",
       "      <td>1</td>\n",
       "      <td>Free entry in 2 a wkly comp to win FA Cup fina...</td>\n",
       "      <td>155</td>\n",
       "    </tr>\n",
       "    <tr>\n",
       "      <th>3</th>\n",
       "      <td>0</td>\n",
       "      <td>U dun say so early hor... U c already then say...</td>\n",
       "      <td>49</td>\n",
       "    </tr>\n",
       "    <tr>\n",
       "      <th>4</th>\n",
       "      <td>0</td>\n",
       "      <td>Nah I don't think he goes to usf, he lives aro...</td>\n",
       "      <td>61</td>\n",
       "    </tr>\n",
       "  </tbody>\n",
       "</table>\n",
       "</div>"
      ],
      "text/plain": [
       "   target                                               text  num_characters\n",
       "0       0  Go until jurong point, crazy.. Available only ...             111\n",
       "1       0                      Ok lar... Joking wif u oni...              29\n",
       "2       1  Free entry in 2 a wkly comp to win FA Cup fina...             155\n",
       "3       0  U dun say so early hor... U c already then say...              49\n",
       "4       0  Nah I don't think he goes to usf, he lives aro...              61"
      ]
     },
     "execution_count": 25,
     "metadata": {},
     "output_type": "execute_result"
    }
   ],
   "source": [
    "df.head()"
   ]
  },
  {
   "cell_type": "code",
   "execution_count": 30,
   "id": "50a38672-2987-41d3-8a5d-9ce1b5b96d8f",
   "metadata": {},
   "outputs": [
    {
     "name": "stderr",
     "output_type": "stream",
     "text": [
      "[nltk_data] Downloading package punkt_tab to\n",
      "[nltk_data]     C:\\Users\\maity\\AppData\\Local\\anaconda3\\nltk_data...\n",
      "[nltk_data]   Unzipping tokenizers\\punkt_tab.zip.\n"
     ]
    },
    {
     "data": {
      "text/plain": [
       "True"
      ]
     },
     "execution_count": 30,
     "metadata": {},
     "output_type": "execute_result"
    }
   ],
   "source": [
    "nltk.download('punkt_tab')"
   ]
  },
  {
   "cell_type": "code",
   "execution_count": 31,
   "id": "107f6a69-33c8-4b89-858d-574e221c39b0",
   "metadata": {},
   "outputs": [],
   "source": [
    "# To find no. of word\n",
    "\n",
    "df['num_words'] = df['text'].apply(lambda x:len(nltk.word_tokenize(x)))"
   ]
  },
  {
   "cell_type": "code",
   "execution_count": 32,
   "id": "13de225d-9a3d-455a-8c92-0f10166ac204",
   "metadata": {},
   "outputs": [],
   "source": [
    "df['num_sentences'] = df['text'].apply(lambda x:len(nltk.sent_tokenize(x)))"
   ]
  },
  {
   "cell_type": "code",
   "execution_count": 33,
   "id": "9f370370-a2c7-4520-a5fb-892723e9273b",
   "metadata": {},
   "outputs": [
    {
     "data": {
      "text/html": [
       "<div>\n",
       "<style scoped>\n",
       "    .dataframe tbody tr th:only-of-type {\n",
       "        vertical-align: middle;\n",
       "    }\n",
       "\n",
       "    .dataframe tbody tr th {\n",
       "        vertical-align: top;\n",
       "    }\n",
       "\n",
       "    .dataframe thead th {\n",
       "        text-align: right;\n",
       "    }\n",
       "</style>\n",
       "<table border=\"1\" class=\"dataframe\">\n",
       "  <thead>\n",
       "    <tr style=\"text-align: right;\">\n",
       "      <th></th>\n",
       "      <th>target</th>\n",
       "      <th>text</th>\n",
       "      <th>num_characters</th>\n",
       "      <th>num_words</th>\n",
       "      <th>num_sentences</th>\n",
       "    </tr>\n",
       "  </thead>\n",
       "  <tbody>\n",
       "    <tr>\n",
       "      <th>0</th>\n",
       "      <td>0</td>\n",
       "      <td>Go until jurong point, crazy.. Available only ...</td>\n",
       "      <td>111</td>\n",
       "      <td>24</td>\n",
       "      <td>2</td>\n",
       "    </tr>\n",
       "    <tr>\n",
       "      <th>1</th>\n",
       "      <td>0</td>\n",
       "      <td>Ok lar... Joking wif u oni...</td>\n",
       "      <td>29</td>\n",
       "      <td>8</td>\n",
       "      <td>2</td>\n",
       "    </tr>\n",
       "    <tr>\n",
       "      <th>2</th>\n",
       "      <td>1</td>\n",
       "      <td>Free entry in 2 a wkly comp to win FA Cup fina...</td>\n",
       "      <td>155</td>\n",
       "      <td>37</td>\n",
       "      <td>2</td>\n",
       "    </tr>\n",
       "    <tr>\n",
       "      <th>3</th>\n",
       "      <td>0</td>\n",
       "      <td>U dun say so early hor... U c already then say...</td>\n",
       "      <td>49</td>\n",
       "      <td>13</td>\n",
       "      <td>1</td>\n",
       "    </tr>\n",
       "    <tr>\n",
       "      <th>4</th>\n",
       "      <td>0</td>\n",
       "      <td>Nah I don't think he goes to usf, he lives aro...</td>\n",
       "      <td>61</td>\n",
       "      <td>15</td>\n",
       "      <td>1</td>\n",
       "    </tr>\n",
       "  </tbody>\n",
       "</table>\n",
       "</div>"
      ],
      "text/plain": [
       "   target                                               text  num_characters  \\\n",
       "0       0  Go until jurong point, crazy.. Available only ...             111   \n",
       "1       0                      Ok lar... Joking wif u oni...              29   \n",
       "2       1  Free entry in 2 a wkly comp to win FA Cup fina...             155   \n",
       "3       0  U dun say so early hor... U c already then say...              49   \n",
       "4       0  Nah I don't think he goes to usf, he lives aro...              61   \n",
       "\n",
       "   num_words  num_sentences  \n",
       "0         24              2  \n",
       "1          8              2  \n",
       "2         37              2  \n",
       "3         13              1  \n",
       "4         15              1  "
      ]
     },
     "execution_count": 33,
     "metadata": {},
     "output_type": "execute_result"
    }
   ],
   "source": [
    "df.head()"
   ]
  },
  {
   "cell_type": "code",
   "execution_count": 36,
   "id": "e2916b71-efd6-4295-9295-dbb31b5cefc3",
   "metadata": {},
   "outputs": [
    {
     "data": {
      "text/html": [
       "<div>\n",
       "<style scoped>\n",
       "    .dataframe tbody tr th:only-of-type {\n",
       "        vertical-align: middle;\n",
       "    }\n",
       "\n",
       "    .dataframe tbody tr th {\n",
       "        vertical-align: top;\n",
       "    }\n",
       "\n",
       "    .dataframe thead th {\n",
       "        text-align: right;\n",
       "    }\n",
       "</style>\n",
       "<table border=\"1\" class=\"dataframe\">\n",
       "  <thead>\n",
       "    <tr style=\"text-align: right;\">\n",
       "      <th></th>\n",
       "      <th>num_characters</th>\n",
       "      <th>num_words</th>\n",
       "      <th>num_sentences</th>\n",
       "    </tr>\n",
       "  </thead>\n",
       "  <tbody>\n",
       "    <tr>\n",
       "      <th>count</th>\n",
       "      <td>5169.000000</td>\n",
       "      <td>5169.000000</td>\n",
       "      <td>5169.000000</td>\n",
       "    </tr>\n",
       "    <tr>\n",
       "      <th>mean</th>\n",
       "      <td>78.977945</td>\n",
       "      <td>18.455794</td>\n",
       "      <td>1.965564</td>\n",
       "    </tr>\n",
       "    <tr>\n",
       "      <th>std</th>\n",
       "      <td>58.236293</td>\n",
       "      <td>13.324758</td>\n",
       "      <td>1.448541</td>\n",
       "    </tr>\n",
       "    <tr>\n",
       "      <th>min</th>\n",
       "      <td>2.000000</td>\n",
       "      <td>1.000000</td>\n",
       "      <td>1.000000</td>\n",
       "    </tr>\n",
       "    <tr>\n",
       "      <th>25%</th>\n",
       "      <td>36.000000</td>\n",
       "      <td>9.000000</td>\n",
       "      <td>1.000000</td>\n",
       "    </tr>\n",
       "    <tr>\n",
       "      <th>50%</th>\n",
       "      <td>60.000000</td>\n",
       "      <td>15.000000</td>\n",
       "      <td>1.000000</td>\n",
       "    </tr>\n",
       "    <tr>\n",
       "      <th>75%</th>\n",
       "      <td>117.000000</td>\n",
       "      <td>26.000000</td>\n",
       "      <td>2.000000</td>\n",
       "    </tr>\n",
       "    <tr>\n",
       "      <th>max</th>\n",
       "      <td>910.000000</td>\n",
       "      <td>220.000000</td>\n",
       "      <td>38.000000</td>\n",
       "    </tr>\n",
       "  </tbody>\n",
       "</table>\n",
       "</div>"
      ],
      "text/plain": [
       "       num_characters    num_words  num_sentences\n",
       "count     5169.000000  5169.000000    5169.000000\n",
       "mean        78.977945    18.455794       1.965564\n",
       "std         58.236293    13.324758       1.448541\n",
       "min          2.000000     1.000000       1.000000\n",
       "25%         36.000000     9.000000       1.000000\n",
       "50%         60.000000    15.000000       1.000000\n",
       "75%        117.000000    26.000000       2.000000\n",
       "max        910.000000   220.000000      38.000000"
      ]
     },
     "execution_count": 36,
     "metadata": {},
     "output_type": "execute_result"
    }
   ],
   "source": [
    "num_col = ['num_characters','num_words','num_sentences']\n",
    "df[num_col].describe()"
   ]
  },
  {
   "cell_type": "code",
   "execution_count": 38,
   "id": "2c4e9676-96bf-4a34-84cc-97e98b2bd52a",
   "metadata": {},
   "outputs": [
    {
     "data": {
      "text/html": [
       "<div>\n",
       "<style scoped>\n",
       "    .dataframe tbody tr th:only-of-type {\n",
       "        vertical-align: middle;\n",
       "    }\n",
       "\n",
       "    .dataframe tbody tr th {\n",
       "        vertical-align: top;\n",
       "    }\n",
       "\n",
       "    .dataframe thead th {\n",
       "        text-align: right;\n",
       "    }\n",
       "</style>\n",
       "<table border=\"1\" class=\"dataframe\">\n",
       "  <thead>\n",
       "    <tr style=\"text-align: right;\">\n",
       "      <th></th>\n",
       "      <th>num_characters</th>\n",
       "      <th>num_words</th>\n",
       "      <th>num_sentences</th>\n",
       "    </tr>\n",
       "  </thead>\n",
       "  <tbody>\n",
       "    <tr>\n",
       "      <th>count</th>\n",
       "      <td>4516.000000</td>\n",
       "      <td>4516.000000</td>\n",
       "      <td>4516.000000</td>\n",
       "    </tr>\n",
       "    <tr>\n",
       "      <th>mean</th>\n",
       "      <td>70.459256</td>\n",
       "      <td>17.123782</td>\n",
       "      <td>1.820195</td>\n",
       "    </tr>\n",
       "    <tr>\n",
       "      <th>std</th>\n",
       "      <td>56.358207</td>\n",
       "      <td>13.493970</td>\n",
       "      <td>1.383657</td>\n",
       "    </tr>\n",
       "    <tr>\n",
       "      <th>min</th>\n",
       "      <td>2.000000</td>\n",
       "      <td>1.000000</td>\n",
       "      <td>1.000000</td>\n",
       "    </tr>\n",
       "    <tr>\n",
       "      <th>25%</th>\n",
       "      <td>34.000000</td>\n",
       "      <td>8.000000</td>\n",
       "      <td>1.000000</td>\n",
       "    </tr>\n",
       "    <tr>\n",
       "      <th>50%</th>\n",
       "      <td>52.000000</td>\n",
       "      <td>13.000000</td>\n",
       "      <td>1.000000</td>\n",
       "    </tr>\n",
       "    <tr>\n",
       "      <th>75%</th>\n",
       "      <td>90.000000</td>\n",
       "      <td>22.000000</td>\n",
       "      <td>2.000000</td>\n",
       "    </tr>\n",
       "    <tr>\n",
       "      <th>max</th>\n",
       "      <td>910.000000</td>\n",
       "      <td>220.000000</td>\n",
       "      <td>38.000000</td>\n",
       "    </tr>\n",
       "  </tbody>\n",
       "</table>\n",
       "</div>"
      ],
      "text/plain": [
       "       num_characters    num_words  num_sentences\n",
       "count     4516.000000  4516.000000    4516.000000\n",
       "mean        70.459256    17.123782       1.820195\n",
       "std         56.358207    13.493970       1.383657\n",
       "min          2.000000     1.000000       1.000000\n",
       "25%         34.000000     8.000000       1.000000\n",
       "50%         52.000000    13.000000       1.000000\n",
       "75%         90.000000    22.000000       2.000000\n",
       "max        910.000000   220.000000      38.000000"
      ]
     },
     "execution_count": 38,
     "metadata": {},
     "output_type": "execute_result"
    }
   ],
   "source": [
    "# For ham\n",
    "df[df['target'] == 0][num_col].describe()"
   ]
  },
  {
   "cell_type": "code",
   "execution_count": 39,
   "id": "f093221a-b560-4639-ba60-ecbc8cfd3df5",
   "metadata": {},
   "outputs": [
    {
     "data": {
      "text/html": [
       "<div>\n",
       "<style scoped>\n",
       "    .dataframe tbody tr th:only-of-type {\n",
       "        vertical-align: middle;\n",
       "    }\n",
       "\n",
       "    .dataframe tbody tr th {\n",
       "        vertical-align: top;\n",
       "    }\n",
       "\n",
       "    .dataframe thead th {\n",
       "        text-align: right;\n",
       "    }\n",
       "</style>\n",
       "<table border=\"1\" class=\"dataframe\">\n",
       "  <thead>\n",
       "    <tr style=\"text-align: right;\">\n",
       "      <th></th>\n",
       "      <th>num_characters</th>\n",
       "      <th>num_words</th>\n",
       "      <th>num_sentences</th>\n",
       "    </tr>\n",
       "  </thead>\n",
       "  <tbody>\n",
       "    <tr>\n",
       "      <th>count</th>\n",
       "      <td>653.000000</td>\n",
       "      <td>653.000000</td>\n",
       "      <td>653.000000</td>\n",
       "    </tr>\n",
       "    <tr>\n",
       "      <th>mean</th>\n",
       "      <td>137.891271</td>\n",
       "      <td>27.667688</td>\n",
       "      <td>2.970904</td>\n",
       "    </tr>\n",
       "    <tr>\n",
       "      <th>std</th>\n",
       "      <td>30.137753</td>\n",
       "      <td>7.008418</td>\n",
       "      <td>1.488425</td>\n",
       "    </tr>\n",
       "    <tr>\n",
       "      <th>min</th>\n",
       "      <td>13.000000</td>\n",
       "      <td>2.000000</td>\n",
       "      <td>1.000000</td>\n",
       "    </tr>\n",
       "    <tr>\n",
       "      <th>25%</th>\n",
       "      <td>132.000000</td>\n",
       "      <td>25.000000</td>\n",
       "      <td>2.000000</td>\n",
       "    </tr>\n",
       "    <tr>\n",
       "      <th>50%</th>\n",
       "      <td>149.000000</td>\n",
       "      <td>29.000000</td>\n",
       "      <td>3.000000</td>\n",
       "    </tr>\n",
       "    <tr>\n",
       "      <th>75%</th>\n",
       "      <td>157.000000</td>\n",
       "      <td>32.000000</td>\n",
       "      <td>4.000000</td>\n",
       "    </tr>\n",
       "    <tr>\n",
       "      <th>max</th>\n",
       "      <td>224.000000</td>\n",
       "      <td>46.000000</td>\n",
       "      <td>9.000000</td>\n",
       "    </tr>\n",
       "  </tbody>\n",
       "</table>\n",
       "</div>"
      ],
      "text/plain": [
       "       num_characters   num_words  num_sentences\n",
       "count      653.000000  653.000000     653.000000\n",
       "mean       137.891271   27.667688       2.970904\n",
       "std         30.137753    7.008418       1.488425\n",
       "min         13.000000    2.000000       1.000000\n",
       "25%        132.000000   25.000000       2.000000\n",
       "50%        149.000000   29.000000       3.000000\n",
       "75%        157.000000   32.000000       4.000000\n",
       "max        224.000000   46.000000       9.000000"
      ]
     },
     "execution_count": 39,
     "metadata": {},
     "output_type": "execute_result"
    }
   ],
   "source": [
    "# For spam\n",
    "df[df['target'] == 1][num_col].describe()"
   ]
  },
  {
   "cell_type": "markdown",
   "id": "2c402815-9833-42e5-b14b-5a2952e8f930",
   "metadata": {},
   "source": [
    "- With the help of above two description('mean') we can clearly see that spam sms are lengthy than ham sms.\n",
    "  "
   ]
  },
  {
   "cell_type": "code",
   "execution_count": 43,
   "id": "0cba57d6-d6d4-4fa6-94df-407284a4804a",
   "metadata": {},
   "outputs": [
    {
     "data": {
      "text/plain": [
       "<Axes: xlabel='num_characters', ylabel='Count'>"
      ]
     },
     "execution_count": 43,
     "metadata": {},
     "output_type": "execute_result"
    },
    {
     "data": {
      "image/png": "[encoded data removed]",
      "text/plain": [
       "<Figure size 1200x600 with 1 Axes>"
      ]
     },
     "metadata": {},
     "output_type": "display_data"
    }
   ],
   "source": [
    "# now plot histogram for number of caracters\n",
    "plt.figure(figsize=(12,6))\n",
    "sns.histplot(df[df['target'] == 0]['num_characters'])\n",
    "sns.histplot(df[df['target'] == 1]['num_characters'],color='red')"
   ]
  },
  {
   "cell_type": "code",
   "execution_count": 44,
   "id": "abd987ca-b7c0-4fcb-8f08-4017d373a96d",
   "metadata": {},
   "outputs": [
    {
     "data": {
      "text/plain": [
       "<Axes: xlabel='num_words', ylabel='Count'>"
      ]
     },
     "execution_count": 44,
     "metadata": {},
     "output_type": "execute_result"
    },
    {
     "data": {
      "image/png": "[encoded data removed]",
      "text/plain": [
       "<Figure size 1200x600 with 1 Axes>"
      ]
     },
     "metadata": {},
     "output_type": "display_data"
    }
   ],
   "source": [
    "# now plot histogram for number of words\n",
    "plt.figure(figsize=(12,6))\n",
    "sns.histplot(df[df['target'] == 0]['num_words'])\n",
    "sns.histplot(df[df['target'] == 1]['num_words'],color='red')"
   ]
  },
  {
   "cell_type": "code",
   "execution_count": 45,
   "id": "6b28068e-f828-450b-ad20-866d5b8164f8",
   "metadata": {},
   "outputs": [
    {
     "data": {
      "text/plain": [
       "<seaborn.axisgrid.PairGrid at 0x1fc4d6898e0>"
      ]
     },
     "execution_count": 45,
     "metadata": {},
     "output_type": "execute_result"
    },
    {
     "data": {
      "image/png": "[encoded data removed]",
      "text/plain": [
       "<Figure size 808.875x750 with 12 Axes>"
      ]
     },
     "metadata": {},
     "output_type": "display_data"
    }
   ],
   "source": [
    "sns.pairplot(df,hue='target')"
   ]
  },
  {
   "cell_type": "code",
   "execution_count": 54,
   "id": "c1fa827f-48c0-4973-899f-688ee900a223",
   "metadata": {},
   "outputs": [],
   "source": [
    "numeric_df = ['target','num_characters','num_words','num_sentences']"
   ]
  },
  {
   "cell_type": "code",
   "execution_count": 58,
   "id": "9d81a1db-3d53-4d82-afdc-fc30b9d491c3",
   "metadata": {},
   "outputs": [
    {
     "data": {
      "text/plain": [
       "<Axes: >"
      ]
     },
     "execution_count": 58,
     "metadata": {},
     "output_type": "execute_result"
    },
    {
     "data": {
      "image/png": "[encoded data removed]",
      "text/plain": [
       "<Figure size 640x480 with 2 Axes>"
      ]
     },
     "metadata": {},
     "output_type": "display_data"
    }
   ],
   "source": [
    "sns.heatmap(df[numeric_df].corr(), annot=True)"
   ]
  },
  {
   "cell_type": "markdown",
   "id": "9d298b74-c456-4798-8f23-1f4298a5e45a",
   "metadata": {},
   "source": [
    "- Here 'num_character' has the highest correlation with 'target', the three created columns are also highly correlated with each other. This can make some trable for us with *multi coliniyarity*, that is why we use only one column which is 'num_characters'"
   ]
  },
  {
   "cell_type": "markdown",
   "id": "0d2a61a4-a5ac-475a-8e42-3ff211cfb676",
   "metadata": {},
   "source": [
    "# Data Preprocessing\n",
    "#####  In this project we can say text preprocessing, because we have texchual data\n",
    "- Lower case\n",
    "- Tokenization\n",
    "- Removing special characters\n",
    "- Removing stop words and punctuation\n",
    "- Stemming"
   ]
  },
  {
   "cell_type": "code",
   "execution_count": 61,
   "id": "f3a4c8b8-4d69-4980-8ca1-48cd5a893aae",
   "metadata": {
    "scrolled": true
   },
   "outputs": [
    {
     "data": {
      "text/plain": [
       "['a',\n",
       " 'about',\n",
       " 'above',\n",
       " 'after',\n",
       " 'again',\n",
       " 'against',\n",
       " 'ain',\n",
       " 'all',\n",
       " 'am',\n",
       " 'an',\n",
       " 'and',\n",
       " 'any',\n",
       " 'are',\n",
       " 'aren',\n",
       " \"aren't\",\n",
       " 'as',\n",
       " 'at',\n",
       " 'be',\n",
       " 'because',\n",
       " 'been',\n",
       " 'before',\n",
       " 'being',\n",
       " 'below',\n",
       " 'between',\n",
       " 'both',\n",
       " 'but',\n",
       " 'by',\n",
       " 'can',\n",
       " 'couldn',\n",
       " \"couldn't\",\n",
       " 'd',\n",
       " 'did',\n",
       " 'didn',\n",
       " \"didn't\",\n",
       " 'do',\n",
       " 'does',\n",
       " 'doesn',\n",
       " \"doesn't\",\n",
       " 'doing',\n",
       " 'don',\n",
       " \"don't\",\n",
       " 'down',\n",
       " 'during',\n",
       " 'each',\n",
       " 'few',\n",
       " 'for',\n",
       " 'from',\n",
       " 'further',\n",
       " 'had',\n",
       " 'hadn',\n",
       " \"hadn't\",\n",
       " 'has',\n",
       " 'hasn',\n",
       " \"hasn't\",\n",
       " 'have',\n",
       " 'haven',\n",
       " \"haven't\",\n",
       " 'having',\n",
       " 'he',\n",
       " \"he'd\",\n",
       " \"he'll\",\n",
       " 'her',\n",
       " 'here',\n",
       " 'hers',\n",
       " 'herself',\n",
       " \"he's\",\n",
       " 'him',\n",
       " 'himself',\n",
       " 'his',\n",
       " 'how',\n",
       " 'i',\n",
       " \"i'd\",\n",
       " 'if',\n",
       " \"i'll\",\n",
       " \"i'm\",\n",
       " 'in',\n",
       " 'into',\n",
       " 'is',\n",
       " 'isn',\n",
       " \"isn't\",\n",
       " 'it',\n",
       " \"it'd\",\n",
       " \"it'll\",\n",
       " \"it's\",\n",
       " 'its',\n",
       " 'itself',\n",
       " \"i've\",\n",
       " 'just',\n",
       " 'll',\n",
       " 'm',\n",
       " 'ma',\n",
       " 'me',\n",
       " 'mightn',\n",
       " \"mightn't\",\n",
       " 'more',\n",
       " 'most',\n",
       " 'mustn',\n",
       " \"mustn't\",\n",
       " 'my',\n",
       " 'myself',\n",
       " 'needn',\n",
       " \"needn't\",\n",
       " 'no',\n",
       " 'nor',\n",
       " 'not',\n",
       " 'now',\n",
       " 'o',\n",
       " 'of',\n",
       " 'off',\n",
       " 'on',\n",
       " 'once',\n",
       " 'only',\n",
       " 'or',\n",
       " 'other',\n",
       " 'our',\n",
       " 'ours',\n",
       " 'ourselves',\n",
       " 'out',\n",
       " 'over',\n",
       " 'own',\n",
       " 're',\n",
       " 's',\n",
       " 'same',\n",
       " 'shan',\n",
       " \"shan't\",\n",
       " 'she',\n",
       " \"she'd\",\n",
       " \"she'll\",\n",
       " \"she's\",\n",
       " 'should',\n",
       " 'shouldn',\n",
       " \"shouldn't\",\n",
       " \"should've\",\n",
       " 'so',\n",
       " 'some',\n",
       " 'such',\n",
       " 't',\n",
       " 'than',\n",
       " 'that',\n",
       " \"that'll\",\n",
       " 'the',\n",
       " 'their',\n",
       " 'theirs',\n",
       " 'them',\n",
       " 'themselves',\n",
       " 'then',\n",
       " 'there',\n",
       " 'these',\n",
       " 'they',\n",
       " \"they'd\",\n",
       " \"they'll\",\n",
       " \"they're\",\n",
       " \"they've\",\n",
       " 'this',\n",
       " 'those',\n",
       " 'through',\n",
       " 'to',\n",
       " 'too',\n",
       " 'under',\n",
       " 'until',\n",
       " 'up',\n",
       " 've',\n",
       " 'very',\n",
       " 'was',\n",
       " 'wasn',\n",
       " \"wasn't\",\n",
       " 'we',\n",
       " \"we'd\",\n",
       " \"we'll\",\n",
       " \"we're\",\n",
       " 'were',\n",
       " 'weren',\n",
       " \"weren't\",\n",
       " \"we've\",\n",
       " 'what',\n",
       " 'when',\n",
       " 'where',\n",
       " 'which',\n",
       " 'while',\n",
       " 'who',\n",
       " 'whom',\n",
       " 'why',\n",
       " 'will',\n",
       " 'with',\n",
       " 'won',\n",
       " \"won't\",\n",
       " 'wouldn',\n",
       " \"wouldn't\",\n",
       " 'y',\n",
       " 'you',\n",
       " \"you'd\",\n",
       " \"you'll\",\n",
       " 'your',\n",
       " \"you're\",\n",
       " 'yours',\n",
       " 'yourself',\n",
       " 'yourselves',\n",
       " \"you've\"]"
      ]
     },
     "execution_count": 61,
     "metadata": {},
     "output_type": "execute_result"
    }
   ],
   "source": [
    "stopwords.words('english')  # this are athe stopwords"
   ]
  },
  {
   "cell_type": "code",
   "execution_count": 60,
   "id": "18ecead8-4ed6-49d7-8a24-497f14d92101",
   "metadata": {},
   "outputs": [
    {
     "data": {
      "text/plain": [
       "'!\"#$%&\\'()*+,-./:;<=>?@[\\\\]^_`{|}~'"
      ]
     },
     "execution_count": 60,
     "metadata": {},
     "output_type": "execute_result"
    }
   ],
   "source": [
    "import string\n",
    "string.punctuation"
   ]
  },
  {
   "cell_type": "markdown",
   "id": "8e7de693-1d26-42ea-806a-6c4260f78305",
   "metadata": {},
   "source": [
    "- We need to remove this stopewords and punctutations because thay are not participate in our analysis."
   ]
  },
  {
   "cell_type": "code",
   "execution_count": 63,
   "id": "653c0532-afaa-4586-a4c4-1f8b1e9d5adf",
   "metadata": {},
   "outputs": [],
   "source": [
    "# For Stemming here we import PorterStemmer from nltk\n",
    "\n",
    "from nltk.stem.porter import PorterStemmer\n",
    "ps = PorterStemmer()\n",
    "# ps.stem('dancing')"
   ]
  },
  {
   "cell_type": "code",
   "execution_count": 75,
   "id": "6622d861-c699-4e2e-9905-60e2d8c75916",
   "metadata": {},
   "outputs": [],
   "source": [
    "def transform_text(text):\n",
    "    '''This function will helps to perform this task given below\n",
    "    1. Lower case\n",
    "    2. Tokenization\n",
    "    3. Removing special characters\n",
    "    4. Removing stop words and punctuation\n",
    "    5. Stemming'''\n",
    "    text = text.lower()\n",
    "    text = nltk.word_tokenize(text)\n",
    "    \n",
    "    y = []\n",
    "    for i in text:\n",
    "        if i.isalnum():\n",
    "            y.append(i)\n",
    "    \n",
    "    text = y[:]\n",
    "    y.clear()\n",
    "    \n",
    "    for i in text:\n",
    "        if i not in stopwords.words('english') and i not in string.punctuation:\n",
    "            y.append(i)\n",
    "            \n",
    "    text = y[:]\n",
    "    y.clear()\n",
    "    \n",
    "    for i in text:\n",
    "        y.append(ps.stem(i))\n",
    "    \n",
    "            \n",
    "    return \" \".join(y)"
   ]
  },
  {
   "cell_type": "code",
   "execution_count": 69,
   "id": "b41ec93f-7c9f-47d9-b960-a57dc85a452c",
   "metadata": {},
   "outputs": [
    {
     "data": {
      "text/plain": [
       "\"I'm gonna be home soon and i don't want to talk about this stuff anymore tonight, k? I've cried enough today.\""
      ]
     },
     "execution_count": 69,
     "metadata": {},
     "output_type": "execute_result"
    }
   ],
   "source": [
    "df['text'][10]"
   ]
  },
  {
   "cell_type": "code",
   "execution_count": 70,
   "id": "9c472b35-ed69-4c6a-be0c-796648673643",
   "metadata": {},
   "outputs": [
    {
     "data": {
      "text/plain": [
       "'gon na home soon want talk stuff anymor tonight k cri enough today'"
      ]
     },
     "execution_count": 70,
     "metadata": {},
     "output_type": "execute_result"
    }
   ],
   "source": [
    "transform_text(\"I'm gonna be home soon and i don't want to talk about this stuff anymore tonight, k? I've cried enough today.\")"
   ]
  },
  {
   "cell_type": "code",
   "execution_count": 71,
   "id": "74135052-e373-47ee-9f15-191d13acda8a",
   "metadata": {},
   "outputs": [],
   "source": [
    "# Now create a new column to store our final text using the created function trnsform_text.\n",
    "df['transformed_text'] = df['text'].apply(transform_text)"
   ]
  },
  {
   "cell_type": "code",
   "execution_count": 74,
   "id": "eb5b4c8e-658a-415c-bec6-20dcfd574a0a",
   "metadata": {},
   "outputs": [
    {
     "data": {
      "text/html": [
       "<div>\n",
       "<style scoped>\n",
       "    .dataframe tbody tr th:only-of-type {\n",
       "        vertical-align: middle;\n",
       "    }\n",
       "\n",
       "    .dataframe tbody tr th {\n",
       "        vertical-align: top;\n",
       "    }\n",
       "\n",
       "    .dataframe thead th {\n",
       "        text-align: right;\n",
       "    }\n",
       "</style>\n",
       "<table border=\"1\" class=\"dataframe\">\n",
       "  <thead>\n",
       "    <tr style=\"text-align: right;\">\n",
       "      <th></th>\n",
       "      <th>target</th>\n",
       "      <th>text</th>\n",
       "      <th>num_characters</th>\n",
       "      <th>num_words</th>\n",
       "      <th>num_sentences</th>\n",
       "      <th>transformed_text</th>\n",
       "    </tr>\n",
       "  </thead>\n",
       "  <tbody>\n",
       "    <tr>\n",
       "      <th>0</th>\n",
       "      <td>0</td>\n",
       "      <td>Go until jurong point, crazy.. Available only ...</td>\n",
       "      <td>111</td>\n",
       "      <td>24</td>\n",
       "      <td>2</td>\n",
       "      <td>go jurong point crazi avail bugi n great world...</td>\n",
       "    </tr>\n",
       "    <tr>\n",
       "      <th>1</th>\n",
       "      <td>0</td>\n",
       "      <td>Ok lar... Joking wif u oni...</td>\n",
       "      <td>29</td>\n",
       "      <td>8</td>\n",
       "      <td>2</td>\n",
       "      <td>ok lar joke wif u oni</td>\n",
       "    </tr>\n",
       "  </tbody>\n",
       "</table>\n",
       "</div>"
      ],
      "text/plain": [
       "   target                                               text  num_characters  \\\n",
       "0       0  Go until jurong point, crazy.. Available only ...             111   \n",
       "1       0                      Ok lar... Joking wif u oni...              29   \n",
       "\n",
       "   num_words  num_sentences                                   transformed_text  \n",
       "0         24              2  go jurong point crazi avail bugi n great world...  \n",
       "1          8              2                              ok lar joke wif u oni  "
      ]
     },
     "execution_count": 74,
     "metadata": {},
     "output_type": "execute_result"
    }
   ],
   "source": [
    "df.head(2)\n",
    "\n",
    "# we make our main column 'text' as it is. If we face some error issue then we can be abel to back track.\n",
    "# As of now let's work with the transformed text."
   ]
  },
  {
   "cell_type": "code",
   "execution_count": 77,
   "id": "081a400e-972a-4753-b357-dbd9622e178f",
   "metadata": {},
   "outputs": [],
   "source": [
    "# Now I we make word cloud, it helps to highlight the importent words.\n",
    "\n",
    "from wordcloud import WordCloud\n",
    "wc = WordCloud(width=500,height=500,min_font_size=10,background_color='white')"
   ]
  },
  {
   "cell_type": "code",
   "execution_count": 78,
   "id": "bd3e848c-9fd5-41f8-b064-d065bf1d4e81",
   "metadata": {},
   "outputs": [],
   "source": [
    "spam_wc = wc.generate(df[df['target']==1]['transformed_text'].str.cat(sep=\" \"))"
   ]
  },
  {
   "cell_type": "code",
   "execution_count": 82,
   "id": "d2321a1c-c100-4917-9e7c-50de8e64f01b",
   "metadata": {},
   "outputs": [
    {
     "data": {
      "text/plain": [
       "<matplotlib.image.AxesImage at 0x1fc53570170>"
      ]
     },
     "execution_count": 82,
     "metadata": {},
     "output_type": "execute_result"
    },
    {
     "data": {
      "image/png": "[encoded data removed]",
      "text/plain": [
       "<Figure size 800x400 with 1 Axes>"
      ]
     },
     "metadata": {},
     "output_type": "display_data"
    }
   ],
   "source": [
    "plt.figure(figsize=(8,4))\n",
    "plt.imshow(spam_wc)"
   ]
  },
  {
   "cell_type": "code",
   "execution_count": 83,
   "id": "98996dd8-b67b-435e-a4cf-80ebb72ae84a",
   "metadata": {},
   "outputs": [],
   "source": [
    "# For ham sms\n",
    "ham_wc = wc.generate(df[df['target']==0]['transformed_text'].str.cat(sep=\" \"))"
   ]
  },
  {
   "cell_type": "code",
   "execution_count": 84,
   "id": "2458611f-5b9a-4c4c-ae2c-3d6080af92fb",
   "metadata": {},
   "outputs": [
    {
     "data": {
      "text/plain": [
       "<matplotlib.image.AxesImage at 0x1fc5391e570>"
      ]
     },
     "execution_count": 84,
     "metadata": {},
     "output_type": "execute_result"
    },
    {
     "data": {
      "image/png": "[encoded data removed]",
      "text/plain": [
       "<Figure size 800x400 with 1 Axes>"
      ]
     },
     "metadata": {},
     "output_type": "display_data"
    }
   ],
   "source": [
    "plt.figure(figsize=(8,4))\n",
    "plt.imshow(ham_wc)"
   ]
  },
  {
   "cell_type": "markdown",
   "id": "a3f2f3b3-5117-4c77-8be2-d15a63d46ad5",
   "metadata": {},
   "source": [
    "- Top 30 word in both spam and ham\n"
   ]
  },
  {
   "cell_type": "code",
   "execution_count": 89,
   "id": "b196ee89-5000-4387-9c49-fdd078c72250",
   "metadata": {},
   "outputs": [],
   "source": [
    "spam_corpus = []   # make a empty list\n",
    "for msg in df[df['target'] == 1]['transformed_text'].tolist():  # tolist helps to make list\n",
    "    for word in msg.split():\n",
    "        spam_corpus.append(word)"
   ]
  },
  {
   "cell_type": "code",
   "execution_count": 90,
   "id": "f1f5a85a-be0f-4bf0-9aa1-91fde2e15791",
   "metadata": {},
   "outputs": [
    {
     "data": {
      "text/plain": [
       "9939"
      ]
     },
     "execution_count": 90,
     "metadata": {},
     "output_type": "execute_result"
    }
   ],
   "source": [
    "len(spam_corpus)"
   ]
  },
  {
   "cell_type": "code",
   "execution_count": 106,
   "id": "6e5ea7b1-1577-4e8e-9130-a982c43a40c3",
   "metadata": {},
   "outputs": [],
   "source": [
    "from collections import Counter\n",
    "common_items_spam = Counter(spam_corpus).most_common(30) # Stor the most common 30 word in spam \n",
    "ciS_df = pd.DataFrame(common_items_spam) # Make a dataframe of this "
   ]
  },
  {
   "cell_type": "code",
   "execution_count": 107,
   "id": "c69ed038-0ff7-42f3-aeb2-f0b2f7026d45",
   "metadata": {},
   "outputs": [
    {
     "data": {
      "image/png": "[encoded data removed]",
      "text/plain": [
       "<Figure size 640x480 with 1 Axes>"
      ]
     },
     "metadata": {},
     "output_type": "display_data"
    }
   ],
   "source": [
    "\n",
    "# Create a bar plot using keyword arguments for x and y\n",
    "sns.barplot(x=ciS_df[0], y=ciS_df[1])\n",
    "plt.xticks(rotation='vertical')\n",
    "plt.show()"
   ]
  },
  {
   "cell_type": "code",
   "execution_count": 103,
   "id": "150e14ef-6efd-4bac-991a-d77ad92625f3",
   "metadata": {},
   "outputs": [],
   "source": [
    "ham_corpus = []\n",
    "for msg in df[df['target'] == 0]['transformed_text'].tolist():\n",
    "    for word in msg.split():\n",
    "        ham_corpus.append(word)"
   ]
  },
  {
   "cell_type": "code",
   "execution_count": 104,
   "id": "b88eedfd-112b-40ee-a28d-d0bf23fcf98a",
   "metadata": {},
   "outputs": [
    {
     "data": {
      "text/plain": [
       "35404"
      ]
     },
     "execution_count": 104,
     "metadata": {},
     "output_type": "execute_result"
    }
   ],
   "source": [
    "len(ham_corpus)"
   ]
  },
  {
   "cell_type": "code",
   "execution_count": 108,
   "id": "cc5d3c2b-080b-4dde-baac-6ea8fd220d28",
   "metadata": {},
   "outputs": [],
   "source": [
    "from collections import Counter\n",
    "common_items_ham = Counter(ham_corpus).most_common(30) # Stor the most common 30 word in ham \n",
    "ciH_df = pd.DataFrame(common_items_ham) # Make a dataframe of this "
   ]
  },
  {
   "cell_type": "code",
   "execution_count": 109,
   "id": "a58c4f8f-f4da-44b0-b764-d94779efff35",
   "metadata": {},
   "outputs": [
    {
     "data": {
      "image/png": "[encoded data removed]",
      "text/plain": [
       "<Figure size 640x480 with 1 Axes>"
      ]
     },
     "metadata": {},
     "output_type": "display_data"
    }
   ],
   "source": [
    "# Create a bar plot using keyword arguments for x and y\n",
    "sns.barplot(x=ciH_df[0], y=ciH_df[1])\n",
    "plt.xticks(rotation='vertical')\n",
    "plt.show()"
   ]
  },
  {
   "cell_type": "markdown",
   "id": "484711b6-1145-4f6a-a3dc-76c26385d8bf",
   "metadata": {},
   "source": [
    "# Model Building"
   ]
  },
  {
   "cell_type": "markdown",
   "id": "4b4ee8be-411c-43fa-ae8b-fe482606490a",
   "metadata": {},
   "source": [
    "#### We use naive based model, because it works better in text based data\n",
    "- for building models we need numerical features, our 'target' column is numeric but 'transformed_text' is not. so need to convert it into neumeric or into vectors.\n",
    "- We use Bag of words, Text Vectorization"
   ]
  },
  {
   "cell_type": "code",
   "execution_count": 151,
   "id": "5db9a915-5646-4826-93bc-dfb4bde46df8",
   "metadata": {},
   "outputs": [],
   "source": [
    "from sklearn.feature_extraction.text import CountVectorizer,TfidfVectorizer\n",
    "cv = CountVectorizer()\n",
    "tfidf = TfidfVectorizer(max_features=3000)"
   ]
  },
  {
   "cell_type": "code",
   "execution_count": 152,
   "id": "dae965ee-7f55-44d0-8ffb-eafbffee530f",
   "metadata": {},
   "outputs": [],
   "source": [
    "X = tfidf.fit_transform(df['transformed_text']).toarray()"
   ]
  },
  {
   "cell_type": "code",
   "execution_count": 153,
   "id": "8a5ea46c-1789-4af1-88e0-a15e09b3f2cb",
   "metadata": {},
   "outputs": [
    {
     "data": {
      "text/plain": [
       "(5169, 3000)"
      ]
     },
     "execution_count": 153,
     "metadata": {},
     "output_type": "execute_result"
    }
   ],
   "source": [
    "X.shape"
   ]
  },
  {
   "cell_type": "code",
   "execution_count": 154,
   "id": "3cf7e5cf-19c6-4e67-8e4e-bf77edea994d",
   "metadata": {},
   "outputs": [],
   "source": [
    "y = df['target'].values"
   ]
  },
  {
   "cell_type": "code",
   "execution_count": 155,
   "id": "6cc3bff1-8c3f-451f-a05d-bc96ede05f48",
   "metadata": {},
   "outputs": [],
   "source": [
    "from sklearn.model_selection import train_test_split\n",
    "X_train,X_test,y_train,y_test = train_test_split(X,y,test_size=0.2,random_state=2)"
   ]
  },
  {
   "cell_type": "code",
   "execution_count": 156,
   "id": "d5cfa1e2-8946-4a54-80a4-b7e362d3042b",
   "metadata": {},
   "outputs": [],
   "source": [
    "from sklearn.naive_bayes import GaussianNB,MultinomialNB,BernoulliNB\n",
    "from sklearn.metrics import accuracy_score,confusion_matrix,precision_score"
   ]
  },
  {
   "cell_type": "code",
   "execution_count": 157,
   "id": "44338dbf-5056-4a3a-9ca7-88eabd62e034",
   "metadata": {},
   "outputs": [],
   "source": [
    "gnb = GaussianNB()\n",
    "mnb = MultinomialNB()\n",
    "bnb = BernoulliNB()"
   ]
  },
  {
   "cell_type": "code",
   "execution_count": 117,
   "id": "7fb1d0ab-5dee-46c4-8ff0-fb4c6fc3fa19",
   "metadata": {},
   "outputs": [
    {
     "name": "stdout",
     "output_type": "stream",
     "text": [
      "0.8694390715667312\n",
      "[[788 108]\n",
      " [ 27 111]]\n",
      "0.5068493150684932\n"
     ]
    }
   ],
   "source": [
    "gnb.fit(X_train,y_train)\n",
    "y_pred1 = gnb.predict(X_test)\n",
    "print(accuracy_score(y_test,y_pred1))\n",
    "print(confusion_matrix(y_test,y_pred1))\n",
    "print(precision_score(y_test,y_pred1))"
   ]
  },
  {
   "cell_type": "code",
   "execution_count": 158,
   "id": "28a903eb-e636-484b-bedd-2e64bfa0c467",
   "metadata": {},
   "outputs": [
    {
     "name": "stdout",
     "output_type": "stream",
     "text": [
      "0.9709864603481625\n",
      "[[896   0]\n",
      " [ 30 108]]\n",
      "1.0\n"
     ]
    }
   ],
   "source": [
    "mnb.fit(X_train,y_train)\n",
    "y_pred2 = mnb.predict(X_test)\n",
    "print(accuracy_score(y_test,y_pred2))\n",
    "print(confusion_matrix(y_test,y_pred2))\n",
    "print(precision_score(y_test,y_pred2))"
   ]
  },
  {
   "cell_type": "code",
   "execution_count": 159,
   "id": "922872df-5368-4db4-9914-652c480f338a",
   "metadata": {},
   "outputs": [
    {
     "name": "stdout",
     "output_type": "stream",
     "text": [
      "0.9835589941972921\n",
      "[[895   1]\n",
      " [ 16 122]]\n",
      "0.991869918699187\n"
     ]
    }
   ],
   "source": [
    "bnb.fit(X_train,y_train)\n",
    "y_pred3 = bnb.predict(X_test)\n",
    "print(accuracy_score(y_test,y_pred3))\n",
    "print(confusion_matrix(y_test,y_pred3))\n",
    "print(precision_score(y_test,y_pred3))"
   ]
  },
  {
   "cell_type": "code",
   "execution_count": 122,
   "id": "6d44cb93-d227-400a-903f-ead7fee3721c",
   "metadata": {},
   "outputs": [],
   "source": [
    "# tfidf ---> MNB"
   ]
  },
  {
   "cell_type": "code",
   "execution_count": 123,
   "id": "46adafae-dfa0-4628-b461-ac250c09ea97",
   "metadata": {
    "scrolled": true
   },
   "outputs": [
    {
     "name": "stdout",
     "output_type": "stream",
     "text": [
      "Collecting xgboost\n",
      "  Downloading xgboost-3.0.0-py3-none-win_amd64.whl.metadata (2.1 kB)\n",
      "Requirement already satisfied: numpy in c:\\users\\maity\\appdata\\local\\anaconda3\\lib\\site-packages (from xgboost) (1.26.4)\n",
      "Requirement already satisfied: scipy in c:\\users\\maity\\appdata\\local\\anaconda3\\lib\\site-packages (from xgboost) (1.13.1)\n",
      "Downloading xgboost-3.0.0-py3-none-win_amd64.whl (150.0 MB)\n",
      "   ---------------------------------------- 0.0/150.0 MB ? eta -:--:--\n",
      "   ---------------------------------------- 0.3/150.0 MB ? eta -:--:--\n",
      "   ---------------------------------------- 1.0/150.0 MB 2.6 MB/s eta 0:00:57\n",
      "   ---------------------------------------- 1.6/150.0 MB 2.5 MB/s eta 0:00:59\n",
      "    --------------------------------------- 2.1/150.0 MB 2.6 MB/s eta 0:00:57\n",
      "    --------------------------------------- 2.6/150.0 MB 2.5 MB/s eta 0:00:59\n",
      "    --------------------------------------- 3.1/150.0 MB 2.6 MB/s eta 0:00:58\n",
      "    --------------------------------------- 3.7/150.0 MB 2.6 MB/s eta 0:00:58\n",
      "   - -------------------------------------- 3.9/150.0 MB 2.6 MB/s eta 0:00:58\n",
      "   - -------------------------------------- 4.5/150.0 MB 2.5 MB/s eta 0:01:00\n",
      "   - -------------------------------------- 5.2/150.0 MB 2.5 MB/s eta 0:00:59\n",
      "   - -------------------------------------- 5.8/150.0 MB 2.5 MB/s eta 0:00:58\n",
      "   - -------------------------------------- 6.3/150.0 MB 2.5 MB/s eta 0:00:58\n",
      "   - -------------------------------------- 6.8/150.0 MB 2.5 MB/s eta 0:00:58\n",
      "   - -------------------------------------- 7.3/150.0 MB 2.5 MB/s eta 0:00:57\n",
      "   -- ------------------------------------- 7.9/150.0 MB 2.5 MB/s eta 0:00:57\n",
      "   -- ------------------------------------- 8.4/150.0 MB 2.5 MB/s eta 0:00:57\n",
      "   -- ------------------------------------- 8.9/150.0 MB 2.5 MB/s eta 0:00:57\n",
      "   -- ------------------------------------- 9.2/150.0 MB 2.5 MB/s eta 0:00:57\n",
      "   -- ------------------------------------- 9.7/150.0 MB 2.5 MB/s eta 0:00:57\n",
      "   -- ------------------------------------- 10.2/150.0 MB 2.5 MB/s eta 0:00:57\n",
      "   -- ------------------------------------- 10.5/150.0 MB 2.5 MB/s eta 0:00:57\n",
      "   -- ------------------------------------- 11.0/150.0 MB 2.4 MB/s eta 0:00:59\n",
      "   --- ------------------------------------ 11.3/150.0 MB 2.4 MB/s eta 0:00:59\n",
      "   --- ------------------------------------ 11.8/150.0 MB 2.4 MB/s eta 0:00:59\n",
      "   --- ------------------------------------ 12.1/150.0 MB 2.3 MB/s eta 0:01:00\n",
      "   --- ------------------------------------ 12.3/150.0 MB 2.3 MB/s eta 0:01:00\n",
      "   --- ------------------------------------ 12.8/150.0 MB 2.3 MB/s eta 0:01:00\n",
      "   --- ------------------------------------ 13.1/150.0 MB 2.3 MB/s eta 0:01:01\n",
      "   --- ------------------------------------ 13.4/150.0 MB 2.2 MB/s eta 0:01:02\n",
      "   --- ------------------------------------ 13.4/150.0 MB 2.2 MB/s eta 0:01:02\n",
      "   --- ------------------------------------ 13.6/150.0 MB 2.2 MB/s eta 0:01:04\n",
      "   --- ------------------------------------ 13.9/150.0 MB 2.1 MB/s eta 0:01:05\n",
      "   --- ------------------------------------ 14.2/150.0 MB 2.1 MB/s eta 0:01:07\n",
      "   --- ------------------------------------ 14.2/150.0 MB 2.1 MB/s eta 0:01:07\n",
      "   --- ------------------------------------ 14.4/150.0 MB 2.0 MB/s eta 0:01:08\n",
      "   --- ------------------------------------ 14.7/150.0 MB 2.0 MB/s eta 0:01:09\n",
      "   --- ------------------------------------ 14.9/150.0 MB 1.9 MB/s eta 0:01:10\n",
      "   --- ------------------------------------ 14.9/150.0 MB 1.9 MB/s eta 0:01:10\n",
      "   ---- ----------------------------------- 15.2/150.0 MB 1.9 MB/s eta 0:01:11\n",
      "   ---- ----------------------------------- 15.7/150.0 MB 1.9 MB/s eta 0:01:12\n",
      "   ---- ----------------------------------- 15.7/150.0 MB 1.9 MB/s eta 0:01:12\n",
      "   ---- ----------------------------------- 16.0/150.0 MB 1.8 MB/s eta 0:01:13\n",
      "   ---- ----------------------------------- 16.3/150.0 MB 1.8 MB/s eta 0:01:15\n",
      "   ---- ----------------------------------- 16.3/150.0 MB 1.8 MB/s eta 0:01:15\n",
      "   ---- ----------------------------------- 16.5/150.0 MB 1.8 MB/s eta 0:01:15\n",
      "   ---- ----------------------------------- 16.8/150.0 MB 1.8 MB/s eta 0:01:15\n",
      "   ---- ----------------------------------- 17.0/150.0 MB 1.8 MB/s eta 0:01:16\n",
      "   ---- ----------------------------------- 17.3/150.0 MB 1.8 MB/s eta 0:01:16\n",
      "   ---- ----------------------------------- 17.6/150.0 MB 1.7 MB/s eta 0:01:17\n",
      "   ---- ----------------------------------- 17.8/150.0 MB 1.7 MB/s eta 0:01:17\n",
      "   ---- ----------------------------------- 18.1/150.0 MB 1.7 MB/s eta 0:01:18\n",
      "   ---- ----------------------------------- 18.4/150.0 MB 1.7 MB/s eta 0:01:18\n",
      "   ---- ----------------------------------- 18.6/150.0 MB 1.7 MB/s eta 0:01:18\n",
      "   ----- ---------------------------------- 18.9/150.0 MB 1.7 MB/s eta 0:01:19\n",
      "   ----- ---------------------------------- 19.1/150.0 MB 1.7 MB/s eta 0:01:18\n",
      "   ----- ---------------------------------- 19.7/150.0 MB 1.7 MB/s eta 0:01:18\n",
      "   ----- ---------------------------------- 19.9/150.0 MB 1.7 MB/s eta 0:01:18\n",
      "   ----- ---------------------------------- 20.4/150.0 MB 1.7 MB/s eta 0:01:17\n",
      "   ----- ---------------------------------- 20.7/150.0 MB 1.7 MB/s eta 0:01:17\n",
      "   ----- ---------------------------------- 21.0/150.0 MB 1.7 MB/s eta 0:01:17\n",
      "   ----- ---------------------------------- 21.2/150.0 MB 1.7 MB/s eta 0:01:17\n",
      "   ----- ---------------------------------- 21.8/150.0 MB 1.7 MB/s eta 0:01:17\n",
      "   ----- ---------------------------------- 22.0/150.0 MB 1.7 MB/s eta 0:01:17\n",
      "   ----- ---------------------------------- 22.3/150.0 MB 1.7 MB/s eta 0:01:17\n",
      "   ------ --------------------------------- 22.5/150.0 MB 1.7 MB/s eta 0:01:17\n",
      "   ------ --------------------------------- 22.8/150.0 MB 1.7 MB/s eta 0:01:17\n",
      "   ------ --------------------------------- 23.1/150.0 MB 1.7 MB/s eta 0:01:17\n",
      "   ------ --------------------------------- 23.6/150.0 MB 1.7 MB/s eta 0:01:17\n",
      "   ------ --------------------------------- 23.9/150.0 MB 1.7 MB/s eta 0:01:16\n",
      "   ------ --------------------------------- 24.1/150.0 MB 1.7 MB/s eta 0:01:16\n",
      "   ------ --------------------------------- 24.6/150.0 MB 1.7 MB/s eta 0:01:16\n",
      "   ------ --------------------------------- 24.9/150.0 MB 1.7 MB/s eta 0:01:16\n",
      "   ------ --------------------------------- 25.2/150.0 MB 1.6 MB/s eta 0:01:16\n",
      "   ------ --------------------------------- 25.4/150.0 MB 1.6 MB/s eta 0:01:16\n",
      "   ------ --------------------------------- 25.7/150.0 MB 1.6 MB/s eta 0:01:16\n",
      "   ------ --------------------------------- 26.2/150.0 MB 1.6 MB/s eta 0:01:16\n",
      "   ------- -------------------------------- 26.5/150.0 MB 1.7 MB/s eta 0:01:15\n",
      "   ------- -------------------------------- 27.0/150.0 MB 1.7 MB/s eta 0:01:15\n",
      "   ------- -------------------------------- 27.5/150.0 MB 1.7 MB/s eta 0:01:14\n",
      "   ------- -------------------------------- 27.8/150.0 MB 1.7 MB/s eta 0:01:14\n",
      "   ------- -------------------------------- 28.3/150.0 MB 1.7 MB/s eta 0:01:13\n",
      "   ------- -------------------------------- 28.8/150.0 MB 1.7 MB/s eta 0:01:13\n",
      "   ------- -------------------------------- 29.4/150.0 MB 1.7 MB/s eta 0:01:12\n",
      "   ------- -------------------------------- 29.9/150.0 MB 1.7 MB/s eta 0:01:11\n",
      "   -------- ------------------------------- 30.1/150.0 MB 1.7 MB/s eta 0:01:11\n",
      "   -------- ------------------------------- 30.4/150.0 MB 1.7 MB/s eta 0:01:11\n",
      "   -------- ------------------------------- 30.9/150.0 MB 1.7 MB/s eta 0:01:11\n",
      "   -------- ------------------------------- 31.2/150.0 MB 1.7 MB/s eta 0:01:11\n",
      "   -------- ------------------------------- 31.5/150.0 MB 1.7 MB/s eta 0:01:10\n",
      "   -------- ------------------------------- 32.0/150.0 MB 1.7 MB/s eta 0:01:10\n",
      "   -------- ------------------------------- 32.5/150.0 MB 1.7 MB/s eta 0:01:09\n",
      "   -------- ------------------------------- 33.0/150.0 MB 1.7 MB/s eta 0:01:09\n",
      "   -------- ------------------------------- 33.3/150.0 MB 1.7 MB/s eta 0:01:08\n",
      "   --------- ------------------------------ 33.8/150.0 MB 1.7 MB/s eta 0:01:08\n",
      "   --------- ------------------------------ 34.3/150.0 MB 1.7 MB/s eta 0:01:07\n",
      "   --------- ------------------------------ 34.9/150.0 MB 1.7 MB/s eta 0:01:07\n",
      "   --------- ------------------------------ 35.1/150.0 MB 1.7 MB/s eta 0:01:07\n",
      "   --------- ------------------------------ 35.7/150.0 MB 1.7 MB/s eta 0:01:06\n",
      "   --------- ------------------------------ 35.9/150.0 MB 1.7 MB/s eta 0:01:06\n",
      "   --------- ------------------------------ 36.2/150.0 MB 1.7 MB/s eta 0:01:06\n",
      "   --------- ------------------------------ 36.4/150.0 MB 1.7 MB/s eta 0:01:06\n",
      "   --------- ------------------------------ 37.0/150.0 MB 1.7 MB/s eta 0:01:06\n",
      "   --------- ------------------------------ 37.2/150.0 MB 1.7 MB/s eta 0:01:06\n",
      "   ---------- ----------------------------- 37.7/150.0 MB 1.7 MB/s eta 0:01:05\n",
      "   ---------- ----------------------------- 38.3/150.0 MB 1.7 MB/s eta 0:01:05\n",
      "   ---------- ----------------------------- 38.8/150.0 MB 1.7 MB/s eta 0:01:04\n",
      "   ---------- ----------------------------- 39.3/150.0 MB 1.8 MB/s eta 0:01:04\n",
      "   ---------- ----------------------------- 39.6/150.0 MB 1.8 MB/s eta 0:01:04\n",
      "   ---------- ----------------------------- 39.8/150.0 MB 1.7 MB/s eta 0:01:03\n",
      "   ---------- ----------------------------- 40.1/150.0 MB 1.7 MB/s eta 0:01:03\n",
      "   ---------- ----------------------------- 40.6/150.0 MB 1.8 MB/s eta 0:01:03\n",
      "   ---------- ----------------------------- 41.2/150.0 MB 1.8 MB/s eta 0:01:03\n",
      "   ----------- ---------------------------- 41.4/150.0 MB 1.8 MB/s eta 0:01:03\n",
      "   ----------- ---------------------------- 41.4/150.0 MB 1.8 MB/s eta 0:01:03\n",
      "   ----------- ---------------------------- 41.4/150.0 MB 1.8 MB/s eta 0:01:03\n",
      "   ----------- ---------------------------- 41.4/150.0 MB 1.8 MB/s eta 0:01:03\n",
      "   ----------- ---------------------------- 41.7/150.0 MB 1.7 MB/s eta 0:01:04\n",
      "   ----------- ---------------------------- 42.2/150.0 MB 1.7 MB/s eta 0:01:04\n",
      "   ----------- ---------------------------- 42.7/150.0 MB 1.7 MB/s eta 0:01:03\n",
      "   ----------- ---------------------------- 43.3/150.0 MB 1.7 MB/s eta 0:01:02\n",
      "   ----------- ---------------------------- 43.8/150.0 MB 1.7 MB/s eta 0:01:02\n",
      "   ----------- ---------------------------- 44.3/150.0 MB 1.7 MB/s eta 0:01:01\n",
      "   ----------- ---------------------------- 44.8/150.0 MB 1.7 MB/s eta 0:01:01\n",
      "   ------------ --------------------------- 45.4/150.0 MB 1.7 MB/s eta 0:01:00\n",
      "   ------------ --------------------------- 45.9/150.0 MB 1.8 MB/s eta 0:01:00\n",
      "   ------------ --------------------------- 46.4/150.0 MB 1.8 MB/s eta 0:00:59\n",
      "   ------------ --------------------------- 46.9/150.0 MB 1.8 MB/s eta 0:00:59\n",
      "   ------------ --------------------------- 47.4/150.0 MB 1.8 MB/s eta 0:00:58\n",
      "   ------------ --------------------------- 48.0/150.0 MB 1.8 MB/s eta 0:00:58\n",
      "   ------------ --------------------------- 48.5/150.0 MB 1.8 MB/s eta 0:00:57\n",
      "   ------------- -------------------------- 49.0/150.0 MB 1.8 MB/s eta 0:00:57\n",
      "   ------------- -------------------------- 49.5/150.0 MB 1.8 MB/s eta 0:00:57\n",
      "   ------------- -------------------------- 50.1/150.0 MB 1.8 MB/s eta 0:00:56\n",
      "   ------------- -------------------------- 50.6/150.0 MB 1.8 MB/s eta 0:00:56\n",
      "   ------------- -------------------------- 51.1/150.0 MB 1.8 MB/s eta 0:00:55\n",
      "   ------------- -------------------------- 51.6/150.0 MB 1.8 MB/s eta 0:00:55\n",
      "   ------------- -------------------------- 52.2/150.0 MB 1.8 MB/s eta 0:00:54\n",
      "   -------------- ------------------------- 52.7/150.0 MB 1.8 MB/s eta 0:00:54\n",
      "   -------------- ------------------------- 53.2/150.0 MB 1.8 MB/s eta 0:00:53\n",
      "   -------------- ------------------------- 53.5/150.0 MB 1.8 MB/s eta 0:00:53\n",
      "   -------------- ------------------------- 54.3/150.0 MB 1.8 MB/s eta 0:00:53\n",
      "   -------------- ------------------------- 54.5/150.0 MB 1.8 MB/s eta 0:00:52\n",
      "   -------------- ------------------------- 54.8/150.0 MB 1.8 MB/s eta 0:00:52\n",
      "   -------------- ------------------------- 55.1/150.0 MB 1.8 MB/s eta 0:00:52\n",
      "   -------------- ------------------------- 55.6/150.0 MB 1.8 MB/s eta 0:00:52\n",
      "   -------------- ------------------------- 55.8/150.0 MB 1.8 MB/s eta 0:00:52\n",
      "   --------------- ------------------------ 56.4/150.0 MB 1.8 MB/s eta 0:00:52\n",
      "   --------------- ------------------------ 56.9/150.0 MB 1.8 MB/s eta 0:00:52\n",
      "   --------------- ------------------------ 57.4/150.0 MB 1.8 MB/s eta 0:00:52\n",
      "   --------------- ------------------------ 57.9/150.0 MB 1.8 MB/s eta 0:00:51\n",
      "   --------------- ------------------------ 58.2/150.0 MB 1.8 MB/s eta 0:00:51\n",
      "   --------------- ------------------------ 58.7/150.0 MB 1.8 MB/s eta 0:00:51\n",
      "   --------------- ------------------------ 59.2/150.0 MB 1.8 MB/s eta 0:00:51\n",
      "   --------------- ------------------------ 59.8/150.0 MB 1.8 MB/s eta 0:00:51\n",
      "   ---------------- ----------------------- 60.0/150.0 MB 1.8 MB/s eta 0:00:50\n",
      "   ---------------- ----------------------- 60.3/150.0 MB 1.8 MB/s eta 0:00:50\n",
      "   ---------------- ----------------------- 60.8/150.0 MB 1.8 MB/s eta 0:00:50\n",
      "   ---------------- ----------------------- 61.3/150.0 MB 1.8 MB/s eta 0:00:50\n",
      "   ---------------- ----------------------- 61.9/150.0 MB 1.8 MB/s eta 0:00:50\n",
      "   ---------------- ----------------------- 62.1/150.0 MB 1.8 MB/s eta 0:00:50\n",
      "   ---------------- ----------------------- 62.7/150.0 MB 1.8 MB/s eta 0:00:49\n",
      "   ---------------- ----------------------- 62.9/150.0 MB 1.8 MB/s eta 0:00:49\n",
      "   ---------------- ----------------------- 62.9/150.0 MB 1.8 MB/s eta 0:00:49\n",
      "   ---------------- ----------------------- 63.2/150.0 MB 1.8 MB/s eta 0:00:50\n",
      "   ---------------- ----------------------- 63.4/150.0 MB 1.7 MB/s eta 0:00:50\n",
      "   ---------------- ----------------------- 63.4/150.0 MB 1.7 MB/s eta 0:00:50\n",
      "   ---------------- ----------------------- 63.7/150.0 MB 1.7 MB/s eta 0:00:50\n",
      "   ----------------- ---------------------- 64.0/150.0 MB 1.7 MB/s eta 0:00:50\n",
      "   ----------------- ---------------------- 64.0/150.0 MB 1.7 MB/s eta 0:00:50\n",
      "   ----------------- ---------------------- 64.2/150.0 MB 1.7 MB/s eta 0:00:50\n",
      "   ----------------- ---------------------- 64.2/150.0 MB 1.7 MB/s eta 0:00:50\n",
      "   ----------------- ---------------------- 64.5/150.0 MB 1.7 MB/s eta 0:00:50\n",
      "   ----------------- ---------------------- 64.7/150.0 MB 1.7 MB/s eta 0:00:50\n",
      "   ----------------- ---------------------- 65.0/150.0 MB 1.7 MB/s eta 0:00:50\n",
      "   ----------------- ---------------------- 65.3/150.0 MB 1.7 MB/s eta 0:00:50\n",
      "   ----------------- ---------------------- 65.3/150.0 MB 1.7 MB/s eta 0:00:50\n",
      "   ----------------- ---------------------- 65.5/150.0 MB 1.7 MB/s eta 0:00:50\n",
      "   ----------------- ---------------------- 65.5/150.0 MB 1.7 MB/s eta 0:00:50\n",
      "   ----------------- ---------------------- 65.8/150.0 MB 1.7 MB/s eta 0:00:50\n",
      "   ----------------- ---------------------- 65.8/150.0 MB 1.7 MB/s eta 0:00:50\n",
      "   ----------------- ---------------------- 66.1/150.0 MB 1.7 MB/s eta 0:00:50\n",
      "   ----------------- ---------------------- 66.3/150.0 MB 1.7 MB/s eta 0:00:50\n",
      "   ----------------- ---------------------- 66.6/150.0 MB 1.7 MB/s eta 0:00:50\n",
      "   ----------------- ---------------------- 66.8/150.0 MB 1.7 MB/s eta 0:00:49\n",
      "   ----------------- ---------------------- 67.1/150.0 MB 1.7 MB/s eta 0:00:49\n",
      "   ----------------- ---------------------- 67.4/150.0 MB 1.7 MB/s eta 0:00:49\n",
      "   ------------------ --------------------- 67.9/150.0 MB 1.7 MB/s eta 0:00:48\n",
      "   ------------------ --------------------- 68.2/150.0 MB 1.7 MB/s eta 0:00:48\n",
      "   ------------------ --------------------- 68.4/150.0 MB 1.7 MB/s eta 0:00:48\n",
      "   ------------------ --------------------- 68.9/150.0 MB 1.7 MB/s eta 0:00:47\n",
      "   ------------------ --------------------- 69.2/150.0 MB 1.7 MB/s eta 0:00:47\n",
      "   ------------------ --------------------- 69.5/150.0 MB 1.7 MB/s eta 0:00:47\n",
      "   ------------------ --------------------- 69.7/150.0 MB 1.7 MB/s eta 0:00:47\n",
      "   ------------------ --------------------- 70.3/150.0 MB 1.7 MB/s eta 0:00:46\n",
      "   ------------------ --------------------- 70.8/150.0 MB 1.7 MB/s eta 0:00:46\n",
      "   ------------------ --------------------- 71.0/150.0 MB 1.7 MB/s eta 0:00:46\n",
      "   ------------------- -------------------- 71.6/150.0 MB 1.7 MB/s eta 0:00:45\n",
      "   ------------------- -------------------- 71.8/150.0 MB 1.7 MB/s eta 0:00:45\n",
      "   ------------------- -------------------- 72.4/150.0 MB 1.7 MB/s eta 0:00:45\n",
      "   ------------------- -------------------- 72.6/150.0 MB 1.8 MB/s eta 0:00:45\n",
      "   ------------------- -------------------- 73.1/150.0 MB 1.8 MB/s eta 0:00:44\n",
      "   ------------------- -------------------- 73.7/150.0 MB 1.8 MB/s eta 0:00:44\n",
      "   ------------------- -------------------- 74.4/150.0 MB 1.8 MB/s eta 0:00:43\n",
      "   ------------------- -------------------- 74.7/150.0 MB 1.8 MB/s eta 0:00:43\n",
      "   -------------------- ------------------- 75.2/150.0 MB 1.8 MB/s eta 0:00:42\n",
      "   -------------------- ------------------- 75.8/150.0 MB 1.8 MB/s eta 0:00:42\n",
      "   -------------------- ------------------- 76.0/150.0 MB 1.8 MB/s eta 0:00:42\n",
      "   -------------------- ------------------- 76.3/150.0 MB 1.8 MB/s eta 0:00:42\n",
      "   -------------------- ------------------- 76.5/150.0 MB 1.8 MB/s eta 0:00:42\n",
      "   -------------------- ------------------- 76.8/150.0 MB 1.8 MB/s eta 0:00:42\n",
      "   -------------------- ------------------- 77.1/150.0 MB 1.8 MB/s eta 0:00:41\n",
      "   -------------------- ------------------- 77.3/150.0 MB 1.8 MB/s eta 0:00:41\n",
      "   -------------------- ------------------- 77.9/150.0 MB 1.8 MB/s eta 0:00:41\n",
      "   -------------------- ------------------- 78.1/150.0 MB 1.8 MB/s eta 0:00:41\n",
      "   -------------------- ------------------- 78.6/150.0 MB 1.8 MB/s eta 0:00:40\n",
      "   --------------------- ------------------ 78.9/150.0 MB 1.8 MB/s eta 0:00:40\n",
      "   --------------------- ------------------ 79.2/150.0 MB 1.8 MB/s eta 0:00:40\n",
      "   --------------------- ------------------ 79.4/150.0 MB 1.8 MB/s eta 0:00:40\n",
      "   --------------------- ------------------ 79.7/150.0 MB 1.8 MB/s eta 0:00:40\n",
      "   --------------------- ------------------ 80.0/150.0 MB 1.8 MB/s eta 0:00:40\n",
      "   --------------------- ------------------ 80.2/150.0 MB 1.8 MB/s eta 0:00:40\n",
      "   --------------------- ------------------ 80.5/150.0 MB 1.8 MB/s eta 0:00:40\n",
      "   --------------------- ------------------ 80.5/150.0 MB 1.8 MB/s eta 0:00:40\n",
      "   --------------------- ------------------ 80.7/150.0 MB 1.7 MB/s eta 0:00:40\n",
      "   --------------------- ------------------ 81.0/150.0 MB 1.7 MB/s eta 0:00:40\n",
      "   --------------------- ------------------ 81.3/150.0 MB 1.7 MB/s eta 0:00:40\n",
      "   --------------------- ------------------ 81.5/150.0 MB 1.7 MB/s eta 0:00:40\n",
      "   --------------------- ------------------ 81.8/150.0 MB 1.7 MB/s eta 0:00:40\n",
      "   --------------------- ------------------ 82.3/150.0 MB 1.7 MB/s eta 0:00:40\n",
      "   ---------------------- ----------------- 82.6/150.0 MB 1.7 MB/s eta 0:00:40\n",
      "   ---------------------- ----------------- 83.1/150.0 MB 1.7 MB/s eta 0:00:39\n",
      "   ---------------------- ----------------- 83.6/150.0 MB 1.7 MB/s eta 0:00:39\n",
      "   ---------------------- ----------------- 84.1/150.0 MB 1.7 MB/s eta 0:00:38\n",
      "   ---------------------- ----------------- 84.4/150.0 MB 1.7 MB/s eta 0:00:39\n",
      "   ---------------------- ----------------- 84.4/150.0 MB 1.7 MB/s eta 0:00:39\n",
      "   ---------------------- ----------------- 84.7/150.0 MB 1.7 MB/s eta 0:00:39\n",
      "   ---------------------- ----------------- 84.9/150.0 MB 1.7 MB/s eta 0:00:39\n",
      "   ---------------------- ----------------- 84.9/150.0 MB 1.7 MB/s eta 0:00:39\n",
      "   ---------------------- ----------------- 85.2/150.0 MB 1.7 MB/s eta 0:00:39\n",
      "   ---------------------- ----------------- 85.2/150.0 MB 1.7 MB/s eta 0:00:39\n",
      "   ---------------------- ----------------- 85.5/150.0 MB 1.7 MB/s eta 0:00:39\n",
      "   ---------------------- ----------------- 85.7/150.0 MB 1.7 MB/s eta 0:00:39\n",
      "   ---------------------- ----------------- 85.7/150.0 MB 1.7 MB/s eta 0:00:39\n",
      "   ---------------------- ----------------- 86.0/150.0 MB 1.7 MB/s eta 0:00:39\n",
      "   ---------------------- ----------------- 86.0/150.0 MB 1.7 MB/s eta 0:00:39\n",
      "   ----------------------- ---------------- 86.2/150.0 MB 1.6 MB/s eta 0:00:40\n",
      "   ----------------------- ---------------- 86.5/150.0 MB 1.6 MB/s eta 0:00:40\n",
      "   ----------------------- ---------------- 86.8/150.0 MB 1.6 MB/s eta 0:00:40\n",
      "   ----------------------- ---------------- 87.0/150.0 MB 1.6 MB/s eta 0:00:40\n",
      "   ----------------------- ---------------- 87.3/150.0 MB 1.6 MB/s eta 0:00:40\n",
      "   ----------------------- ---------------- 87.8/150.0 MB 1.6 MB/s eta 0:00:39\n",
      "   ----------------------- ---------------- 88.1/150.0 MB 1.6 MB/s eta 0:00:39\n",
      "   ----------------------- ---------------- 88.6/150.0 MB 1.6 MB/s eta 0:00:39\n",
      "   ----------------------- ---------------- 89.1/150.0 MB 1.6 MB/s eta 0:00:38\n",
      "   ----------------------- ---------------- 89.7/150.0 MB 1.6 MB/s eta 0:00:38\n",
      "   ------------------------ --------------- 90.2/150.0 MB 1.7 MB/s eta 0:00:37\n",
      "   ------------------------ --------------- 90.7/150.0 MB 1.7 MB/s eta 0:00:36\n",
      "   ------------------------ --------------- 91.2/150.0 MB 1.7 MB/s eta 0:00:36\n",
      "   ------------------------ --------------- 91.8/150.0 MB 1.7 MB/s eta 0:00:35\n",
      "   ------------------------ --------------- 92.3/150.0 MB 1.7 MB/s eta 0:00:35\n",
      "   ------------------------ --------------- 92.8/150.0 MB 1.7 MB/s eta 0:00:35\n",
      "   ------------------------ --------------- 93.3/150.0 MB 1.7 MB/s eta 0:00:34\n",
      "   ------------------------ --------------- 93.6/150.0 MB 1.7 MB/s eta 0:00:34\n",
      "   ------------------------- -------------- 93.8/150.0 MB 1.7 MB/s eta 0:00:34\n",
      "   ------------------------- -------------- 94.1/150.0 MB 1.7 MB/s eta 0:00:34\n",
      "   ------------------------- -------------- 94.6/150.0 MB 1.7 MB/s eta 0:00:34\n",
      "   ------------------------- -------------- 94.9/150.0 MB 1.6 MB/s eta 0:00:34\n",
      "   ------------------------- -------------- 95.4/150.0 MB 1.6 MB/s eta 0:00:34\n",
      "   ------------------------- -------------- 95.9/150.0 MB 1.6 MB/s eta 0:00:33\n",
      "   ------------------------- -------------- 96.5/150.0 MB 1.6 MB/s eta 0:00:33\n",
      "   ------------------------- -------------- 97.0/150.0 MB 1.6 MB/s eta 0:00:33\n",
      "   -------------------------- ------------- 97.5/150.0 MB 1.6 MB/s eta 0:00:32\n",
      "   -------------------------- ------------- 98.0/150.0 MB 1.6 MB/s eta 0:00:32\n",
      "   -------------------------- ------------- 98.6/150.0 MB 1.6 MB/s eta 0:00:32\n",
      "   -------------------------- ------------- 99.1/150.0 MB 1.6 MB/s eta 0:00:32\n",
      "   -------------------------- ------------- 99.6/150.0 MB 1.6 MB/s eta 0:00:31\n",
      "   -------------------------- ------------- 100.1/150.0 MB 1.6 MB/s eta 0:00:31\n",
      "   -------------------------- ------------- 100.7/150.0 MB 1.6 MB/s eta 0:00:31\n",
      "   -------------------------- ------------- 100.9/150.0 MB 1.6 MB/s eta 0:00:30\n",
      "   -------------------------- ------------- 101.2/150.0 MB 1.6 MB/s eta 0:00:30\n",
      "   --------------------------- ------------ 101.7/150.0 MB 1.6 MB/s eta 0:00:30\n",
      "   --------------------------- ------------ 102.0/150.0 MB 1.6 MB/s eta 0:00:30\n",
      "   --------------------------- ------------ 102.2/150.0 MB 1.6 MB/s eta 0:00:30\n",
      "   --------------------------- ------------ 102.8/150.0 MB 1.6 MB/s eta 0:00:30\n",
      "   --------------------------- ------------ 103.3/150.0 MB 1.6 MB/s eta 0:00:29\n",
      "   --------------------------- ------------ 103.8/150.0 MB 1.6 MB/s eta 0:00:29\n",
      "   --------------------------- ------------ 104.3/150.0 MB 1.6 MB/s eta 0:00:28\n",
      "   --------------------------- ------------ 104.9/150.0 MB 1.6 MB/s eta 0:00:28\n",
      "   ---------------------------- ----------- 105.4/150.0 MB 1.6 MB/s eta 0:00:28\n",
      "   ---------------------------- ----------- 105.9/150.0 MB 1.6 MB/s eta 0:00:27\n",
      "   ---------------------------- ----------- 106.4/150.0 MB 1.6 MB/s eta 0:00:27\n",
      "   ---------------------------- ----------- 107.0/150.0 MB 1.6 MB/s eta 0:00:27\n",
      "   ---------------------------- ----------- 107.5/150.0 MB 1.6 MB/s eta 0:00:26\n",
      "   ---------------------------- ----------- 108.0/150.0 MB 1.6 MB/s eta 0:00:26\n",
      "   ---------------------------- ----------- 108.5/150.0 MB 1.6 MB/s eta 0:00:26\n",
      "   ----------------------------- ---------- 109.1/150.0 MB 1.6 MB/s eta 0:00:25\n",
      "   ----------------------------- ---------- 109.6/150.0 MB 1.7 MB/s eta 0:00:25\n",
      "   ----------------------------- ---------- 110.1/150.0 MB 1.7 MB/s eta 0:00:25\n",
      "   ----------------------------- ---------- 110.6/150.0 MB 1.7 MB/s eta 0:00:24\n",
      "   ----------------------------- ---------- 111.1/150.0 MB 1.7 MB/s eta 0:00:24\n",
      "   ----------------------------- ---------- 111.4/150.0 MB 1.7 MB/s eta 0:00:24\n",
      "   ----------------------------- ---------- 111.9/150.0 MB 1.7 MB/s eta 0:00:23\n",
      "   ----------------------------- ---------- 112.5/150.0 MB 1.7 MB/s eta 0:00:23\n",
      "   ------------------------------ --------- 113.0/150.0 MB 1.7 MB/s eta 0:00:23\n",
      "   ------------------------------ --------- 113.5/150.0 MB 1.7 MB/s eta 0:00:22\n",
      "   ------------------------------ --------- 114.0/150.0 MB 1.7 MB/s eta 0:00:22\n",
      "   ------------------------------ --------- 114.6/150.0 MB 1.7 MB/s eta 0:00:21\n",
      "   ------------------------------ --------- 115.1/150.0 MB 1.7 MB/s eta 0:00:21\n",
      "   ------------------------------ --------- 115.6/150.0 MB 1.7 MB/s eta 0:00:20\n",
      "   ------------------------------ --------- 116.1/150.0 MB 1.7 MB/s eta 0:00:20\n",
      "   ------------------------------- -------- 116.4/150.0 MB 1.8 MB/s eta 0:00:20\n",
      "   ------------------------------- -------- 116.9/150.0 MB 1.8 MB/s eta 0:00:19\n",
      "   ------------------------------- -------- 117.4/150.0 MB 1.8 MB/s eta 0:00:19\n",
      "   ------------------------------- -------- 118.2/150.0 MB 1.8 MB/s eta 0:00:18\n",
      "   ------------------------------- -------- 118.8/150.0 MB 1.8 MB/s eta 0:00:18\n",
      "   ------------------------------- -------- 119.3/150.0 MB 1.8 MB/s eta 0:00:17\n",
      "   ------------------------------- -------- 119.8/150.0 MB 1.8 MB/s eta 0:00:17\n",
      "   -------------------------------- ------- 120.3/150.0 MB 1.8 MB/s eta 0:00:17\n",
      "   -------------------------------- ------- 120.8/150.0 MB 1.8 MB/s eta 0:00:16\n",
      "   -------------------------------- ------- 121.4/150.0 MB 1.9 MB/s eta 0:00:16\n",
      "   -------------------------------- ------- 121.9/150.0 MB 1.9 MB/s eta 0:00:15\n",
      "   -------------------------------- ------- 122.4/150.0 MB 1.9 MB/s eta 0:00:15\n",
      "   -------------------------------- ------- 122.9/150.0 MB 1.9 MB/s eta 0:00:15\n",
      "   -------------------------------- ------- 123.5/150.0 MB 1.9 MB/s eta 0:00:14\n",
      "   --------------------------------- ------ 123.7/150.0 MB 1.9 MB/s eta 0:00:14\n",
      "   --------------------------------- ------ 124.3/150.0 MB 1.9 MB/s eta 0:00:14\n",
      "   --------------------------------- ------ 125.0/150.0 MB 1.9 MB/s eta 0:00:13\n",
      "   --------------------------------- ------ 125.3/150.0 MB 1.9 MB/s eta 0:00:13\n",
      "   --------------------------------- ------ 125.8/150.0 MB 1.9 MB/s eta 0:00:13\n",
      "   --------------------------------- ------ 126.1/150.0 MB 1.9 MB/s eta 0:00:13\n",
      "   --------------------------------- ------ 126.6/150.0 MB 1.9 MB/s eta 0:00:13\n",
      "   --------------------------------- ------ 127.1/150.0 MB 2.0 MB/s eta 0:00:12\n",
      "   ---------------------------------- ----- 127.7/150.0 MB 2.0 MB/s eta 0:00:12\n",
      "   ---------------------------------- ----- 127.9/150.0 MB 2.0 MB/s eta 0:00:12\n",
      "   ---------------------------------- ----- 128.2/150.0 MB 2.0 MB/s eta 0:00:12\n",
      "   ---------------------------------- ----- 128.5/150.0 MB 2.0 MB/s eta 0:00:12\n",
      "   ---------------------------------- ----- 128.5/150.0 MB 2.0 MB/s eta 0:00:12\n",
      "   ---------------------------------- ----- 128.7/150.0 MB 1.9 MB/s eta 0:00:11\n",
      "   ---------------------------------- ----- 129.0/150.0 MB 1.9 MB/s eta 0:00:11\n",
      "   ---------------------------------- ----- 129.2/150.0 MB 1.9 MB/s eta 0:00:11\n",
      "   ---------------------------------- ----- 129.5/150.0 MB 1.9 MB/s eta 0:00:11\n",
      "   ---------------------------------- ----- 129.5/150.0 MB 1.9 MB/s eta 0:00:11\n",
      "   ---------------------------------- ----- 129.8/150.0 MB 1.9 MB/s eta 0:00:11\n",
      "   ---------------------------------- ----- 130.0/150.0 MB 1.9 MB/s eta 0:00:11\n",
      "   ---------------------------------- ----- 130.3/150.0 MB 1.9 MB/s eta 0:00:11\n",
      "   ---------------------------------- ----- 130.5/150.0 MB 1.9 MB/s eta 0:00:11\n",
      "   ---------------------------------- ----- 130.8/150.0 MB 1.9 MB/s eta 0:00:11\n",
      "   ---------------------------------- ----- 131.1/150.0 MB 1.9 MB/s eta 0:00:11\n",
      "   ----------------------------------- ---- 131.3/150.0 MB 1.9 MB/s eta 0:00:11\n",
      "   ----------------------------------- ---- 131.6/150.0 MB 1.8 MB/s eta 0:00:10\n",
      "   ----------------------------------- ---- 131.9/150.0 MB 1.9 MB/s eta 0:00:10\n",
      "   ----------------------------------- ---- 132.1/150.0 MB 1.9 MB/s eta 0:00:10\n",
      "   ----------------------------------- ---- 132.4/150.0 MB 1.9 MB/s eta 0:00:10\n",
      "   ----------------------------------- ---- 132.9/150.0 MB 1.9 MB/s eta 0:00:10\n",
      "   ----------------------------------- ---- 133.2/150.0 MB 1.9 MB/s eta 0:00:10\n",
      "   ----------------------------------- ---- 133.7/150.0 MB 1.9 MB/s eta 0:00:09\n",
      "   ----------------------------------- ---- 134.0/150.0 MB 1.9 MB/s eta 0:00:09\n",
      "   ----------------------------------- ---- 134.2/150.0 MB 1.8 MB/s eta 0:00:09\n",
      "   ----------------------------------- ---- 134.5/150.0 MB 1.8 MB/s eta 0:00:09\n",
      "   ----------------------------------- ---- 134.7/150.0 MB 1.9 MB/s eta 0:00:09\n",
      "   ------------------------------------ --- 135.3/150.0 MB 1.9 MB/s eta 0:00:08\n",
      "   ------------------------------------ --- 135.5/150.0 MB 1.9 MB/s eta 0:00:08\n",
      "   ------------------------------------ --- 135.8/150.0 MB 1.9 MB/s eta 0:00:08\n",
      "   ------------------------------------ --- 136.3/150.0 MB 1.9 MB/s eta 0:00:08\n",
      "   ------------------------------------ --- 136.6/150.0 MB 1.9 MB/s eta 0:00:08\n",
      "   ------------------------------------ --- 137.1/150.0 MB 1.9 MB/s eta 0:00:07\n",
      "   ------------------------------------ --- 137.6/150.0 MB 1.9 MB/s eta 0:00:07\n",
      "   ------------------------------------ --- 137.9/150.0 MB 1.9 MB/s eta 0:00:07\n",
      "   ------------------------------------ --- 138.4/150.0 MB 1.9 MB/s eta 0:00:07\n",
      "   ------------------------------------- -- 138.9/150.0 MB 1.9 MB/s eta 0:00:06\n",
      "   ------------------------------------- -- 139.5/150.0 MB 1.9 MB/s eta 0:00:06\n",
      "   ------------------------------------- -- 140.0/150.0 MB 1.9 MB/s eta 0:00:06\n",
      "   ------------------------------------- -- 140.5/150.0 MB 1.9 MB/s eta 0:00:05\n",
      "   ------------------------------------- -- 141.0/150.0 MB 1.9 MB/s eta 0:00:05\n",
      "   ------------------------------------- -- 141.6/150.0 MB 1.9 MB/s eta 0:00:05\n",
      "   ------------------------------------- -- 142.1/150.0 MB 1.9 MB/s eta 0:00:05\n",
      "   ------------------------------------- -- 142.3/150.0 MB 1.9 MB/s eta 0:00:04\n",
      "   -------------------------------------- - 142.9/150.0 MB 2.0 MB/s eta 0:00:04\n",
      "   -------------------------------------- - 143.4/150.0 MB 2.0 MB/s eta 0:00:04\n",
      "   -------------------------------------- - 143.9/150.0 MB 2.0 MB/s eta 0:00:04\n",
      "   -------------------------------------- - 144.4/150.0 MB 2.0 MB/s eta 0:00:03\n",
      "   -------------------------------------- - 145.0/150.0 MB 2.0 MB/s eta 0:00:03\n",
      "   -------------------------------------- - 145.5/150.0 MB 2.0 MB/s eta 0:00:03\n",
      "   -------------------------------------- - 146.0/150.0 MB 2.0 MB/s eta 0:00:02\n",
      "   ---------------------------------------  146.5/150.0 MB 2.0 MB/s eta 0:00:02\n",
      "   ---------------------------------------  147.1/150.0 MB 2.0 MB/s eta 0:00:02\n",
      "   ---------------------------------------  147.6/150.0 MB 2.1 MB/s eta 0:00:02\n",
      "   ---------------------------------------  148.1/150.0 MB 2.1 MB/s eta 0:00:01\n",
      "   ---------------------------------------  148.6/150.0 MB 2.1 MB/s eta 0:00:01\n",
      "   ---------------------------------------  149.2/150.0 MB 2.1 MB/s eta 0:00:01\n",
      "   ---------------------------------------  149.7/150.0 MB 2.1 MB/s eta 0:00:01\n",
      "   ---------------------------------------  149.9/150.0 MB 2.1 MB/s eta 0:00:01\n",
      "   ---------------------------------------  149.9/150.0 MB 2.1 MB/s eta 0:00:01\n",
      "   ---------------------------------------- 150.0/150.0 MB 2.1 MB/s eta 0:00:00\n",
      "Installing collected packages: xgboost\n",
      "Successfully installed xgboost-3.0.0\n",
      "Note: you may need to restart the kernel to use updated packages.\n"
     ]
    }
   ],
   "source": [
    "pip install xgboost"
   ]
  },
  {
   "cell_type": "code",
   "execution_count": 124,
   "id": "c3acc365-8bce-4387-b73d-c6f478362f82",
   "metadata": {},
   "outputs": [],
   "source": [
    "from sklearn.linear_model import LogisticRegression\n",
    "from sklearn.svm import SVC\n",
    "from sklearn.naive_bayes import MultinomialNB\n",
    "from sklearn.tree import DecisionTreeClassifier\n",
    "from sklearn.neighbors import KNeighborsClassifier\n",
    "from sklearn.ensemble import RandomForestClassifier\n",
    "from sklearn.ensemble import AdaBoostClassifier\n",
    "from sklearn.ensemble import BaggingClassifier\n",
    "from sklearn.ensemble import ExtraTreesClassifier\n",
    "from sklearn.ensemble import GradientBoostingClassifier\n",
    "from xgboost import XGBClassifier"
   ]
  },
  {
   "cell_type": "code",
   "execution_count": 125,
   "id": "436f5d90-4ea6-451d-8b74-2c67125a1883",
   "metadata": {},
   "outputs": [],
   "source": [
    "svc = SVC(kernel='sigmoid', gamma=1.0)\n",
    "knc = KNeighborsClassifier()\n",
    "mnb = MultinomialNB()\n",
    "dtc = DecisionTreeClassifier(max_depth=5)\n",
    "lrc = LogisticRegression(solver='liblinear', penalty='l1')\n",
    "rfc = RandomForestClassifier(n_estimators=50, random_state=2)\n",
    "abc = AdaBoostClassifier(n_estimators=50, random_state=2)\n",
    "bc = BaggingClassifier(n_estimators=50, random_state=2)\n",
    "etc = ExtraTreesClassifier(n_estimators=50, random_state=2)\n",
    "gbdt = GradientBoostingClassifier(n_estimators=50,random_state=2)\n",
    "xgb = XGBClassifier(n_estimators=50,random_state=2)"
   ]
  },
  {
   "cell_type": "code",
   "execution_count": 126,
   "id": "3b2681eb-c28a-43a5-8d6f-0739f568224b",
   "metadata": {},
   "outputs": [],
   "source": [
    "clfs = {\n",
    "    'SVC' : svc,\n",
    "    'KN' : knc, \n",
    "    'NB': mnb, \n",
    "    'DT': dtc, \n",
    "    'LR': lrc, \n",
    "    'RF': rfc, \n",
    "    'AdaBoost': abc, \n",
    "    'BgC': bc, \n",
    "    'ETC': etc,\n",
    "    'GBDT':gbdt,\n",
    "    'xgb':xgb\n",
    "}"
   ]
  },
  {
   "cell_type": "code",
   "execution_count": 127,
   "id": "849fd017-da53-4333-a8b7-fd743cda6fc0",
   "metadata": {},
   "outputs": [],
   "source": [
    "def train_classifier(clf,X_train,y_train,X_test,y_test):\n",
    "    clf.fit(X_train,y_train)\n",
    "    y_pred = clf.predict(X_test)\n",
    "    accuracy = accuracy_score(y_test,y_pred)\n",
    "    precision = precision_score(y_test,y_pred)\n",
    "    \n",
    "    return accuracy,precision"
   ]
  },
  {
   "cell_type": "code",
   "execution_count": 128,
   "id": "0037ec09-53eb-4688-bc66-985a3da84841",
   "metadata": {},
   "outputs": [
    {
     "data": {
      "text/plain": [
       "(0.9758220502901354, 0.9747899159663865)"
      ]
     },
     "execution_count": 128,
     "metadata": {},
     "output_type": "execute_result"
    }
   ],
   "source": [
    "train_classifier(svc,X_train,y_train,X_test,y_test)"
   ]
  },
  {
   "cell_type": "code",
   "execution_count": 129,
   "id": "cbe20d4b-2c8d-4cc2-bacc-b7b7957c125a",
   "metadata": {},
   "outputs": [
    {
     "name": "stdout",
     "output_type": "stream",
     "text": [
      "For  SVC\n",
      "Accuracy -  0.9758220502901354\n",
      "Precision -  0.9747899159663865\n"
     ]
    },
    {
     "name": "stderr",
     "output_type": "stream",
     "text": [
      "C:\\Users\\maity\\AppData\\Local\\anaconda3\\Lib\\site-packages\\joblib\\externals\\loky\\backend\\context.py:136: UserWarning: Could not find the number of physical cores for the following reason:\n",
      "[WinError 2] The system cannot find the file specified\n",
      "Returning the number of logical cores instead. You can silence this warning by setting LOKY_MAX_CPU_COUNT to the number of cores you want to use.\n",
      "  warnings.warn(\n",
      "  File \"C:\\Users\\maity\\AppData\\Local\\anaconda3\\Lib\\site-packages\\joblib\\externals\\loky\\backend\\context.py\", line 257, in _count_physical_cores\n",
      "    cpu_info = subprocess.run(\n",
      "               ^^^^^^^^^^^^^^^\n",
      "  File \"C:\\Users\\maity\\AppData\\Local\\anaconda3\\Lib\\subprocess.py\", line 548, in run\n",
      "    with Popen(*popenargs, **kwargs) as process:\n",
      "         ^^^^^^^^^^^^^^^^^^^^^^^^^^^\n",
      "  File \"C:\\Users\\maity\\AppData\\Local\\anaconda3\\Lib\\subprocess.py\", line 1026, in __init__\n",
      "    self._execute_child(args, executable, preexec_fn, close_fds,\n",
      "  File \"C:\\Users\\maity\\AppData\\Local\\anaconda3\\Lib\\subprocess.py\", line 1538, in _execute_child\n",
      "    hp, ht, pid, tid = _winapi.CreateProcess(executable, args,\n",
      "                       ^^^^^^^^^^^^^^^^^^^^^^^^^^^^^^^^^^^^^^^\n"
     ]
    },
    {
     "name": "stdout",
     "output_type": "stream",
     "text": [
      "For  KN\n",
      "Accuracy -  0.9052224371373307\n",
      "Precision -  1.0\n",
      "For  NB\n",
      "Accuracy -  0.9709864603481625\n",
      "Precision -  1.0\n",
      "For  DT\n",
      "Accuracy -  0.9313346228239845\n",
      "Precision -  0.8252427184466019\n",
      "For  LR\n",
      "Accuracy -  0.9584139264990329\n",
      "Precision -  0.9702970297029703\n",
      "For  RF\n",
      "Accuracy -  0.9758220502901354\n",
      "Precision -  0.9829059829059829\n"
     ]
    },
    {
     "name": "stderr",
     "output_type": "stream",
     "text": [
      "C:\\Users\\maity\\AppData\\Local\\anaconda3\\Lib\\site-packages\\sklearn\\ensemble\\_weight_boosting.py:527: FutureWarning: The SAMME.R algorithm (the default) is deprecated and will be removed in 1.6. Use the SAMME algorithm to circumvent this warning.\n",
      "  warnings.warn(\n"
     ]
    },
    {
     "name": "stdout",
     "output_type": "stream",
     "text": [
      "For  AdaBoost\n",
      "Accuracy -  0.960348162475822\n",
      "Precision -  0.9292035398230089\n",
      "For  BgC\n",
      "Accuracy -  0.9584139264990329\n",
      "Precision -  0.8682170542635659\n",
      "For  ETC\n",
      "Accuracy -  0.9748549323017408\n",
      "Precision -  0.9745762711864406\n",
      "For  GBDT\n",
      "Accuracy -  0.9468085106382979\n",
      "Precision -  0.9191919191919192\n",
      "For  xgb\n",
      "Accuracy -  0.9671179883945842\n",
      "Precision -  0.9482758620689655\n"
     ]
    }
   ],
   "source": [
    "accuracy_scores = []\n",
    "precision_scores = []\n",
    "\n",
    "for name,clf in clfs.items():\n",
    "    \n",
    "    current_accuracy,current_precision = train_classifier(clf, X_train,y_train,X_test,y_test)\n",
    "    \n",
    "    print(\"For \",name)\n",
    "    print(\"Accuracy - \",current_accuracy)\n",
    "    print(\"Precision - \",current_precision)\n",
    "    \n",
    "    accuracy_scores.append(current_accuracy)\n",
    "    precision_scores.append(current_precision)"
   ]
  },
  {
   "cell_type": "code",
   "execution_count": 130,
   "id": "136fd26b-f27f-404c-a737-1f52315f1f67",
   "metadata": {},
   "outputs": [],
   "source": [
    "performance_df = pd.DataFrame({'Algorithm':clfs.keys(),'Accuracy':accuracy_scores,'Precision':precision_scores}).sort_values('Precision',ascending=False)"
   ]
  },
  {
   "cell_type": "code",
   "execution_count": 131,
   "id": "c83e5991-0b91-4278-8d22-3a83cca36390",
   "metadata": {},
   "outputs": [
    {
     "data": {
      "text/html": [
       "<div>\n",
       "<style scoped>\n",
       "    .dataframe tbody tr th:only-of-type {\n",
       "        vertical-align: middle;\n",
       "    }\n",
       "\n",
       "    .dataframe tbody tr th {\n",
       "        vertical-align: top;\n",
       "    }\n",
       "\n",
       "    .dataframe thead th {\n",
       "        text-align: right;\n",
       "    }\n",
       "</style>\n",
       "<table border=\"1\" class=\"dataframe\">\n",
       "  <thead>\n",
       "    <tr style=\"text-align: right;\">\n",
       "      <th></th>\n",
       "      <th>Algorithm</th>\n",
       "      <th>Accuracy</th>\n",
       "      <th>Precision</th>\n",
       "    </tr>\n",
       "  </thead>\n",
       "  <tbody>\n",
       "    <tr>\n",
       "      <th>1</th>\n",
       "      <td>KN</td>\n",
       "      <td>0.905222</td>\n",
       "      <td>1.000000</td>\n",
       "    </tr>\n",
       "    <tr>\n",
       "      <th>2</th>\n",
       "      <td>NB</td>\n",
       "      <td>0.970986</td>\n",
       "      <td>1.000000</td>\n",
       "    </tr>\n",
       "    <tr>\n",
       "      <th>5</th>\n",
       "      <td>RF</td>\n",
       "      <td>0.975822</td>\n",
       "      <td>0.982906</td>\n",
       "    </tr>\n",
       "    <tr>\n",
       "      <th>0</th>\n",
       "      <td>SVC</td>\n",
       "      <td>0.975822</td>\n",
       "      <td>0.974790</td>\n",
       "    </tr>\n",
       "    <tr>\n",
       "      <th>8</th>\n",
       "      <td>ETC</td>\n",
       "      <td>0.974855</td>\n",
       "      <td>0.974576</td>\n",
       "    </tr>\n",
       "    <tr>\n",
       "      <th>4</th>\n",
       "      <td>LR</td>\n",
       "      <td>0.958414</td>\n",
       "      <td>0.970297</td>\n",
       "    </tr>\n",
       "    <tr>\n",
       "      <th>10</th>\n",
       "      <td>xgb</td>\n",
       "      <td>0.967118</td>\n",
       "      <td>0.948276</td>\n",
       "    </tr>\n",
       "    <tr>\n",
       "      <th>6</th>\n",
       "      <td>AdaBoost</td>\n",
       "      <td>0.960348</td>\n",
       "      <td>0.929204</td>\n",
       "    </tr>\n",
       "    <tr>\n",
       "      <th>9</th>\n",
       "      <td>GBDT</td>\n",
       "      <td>0.946809</td>\n",
       "      <td>0.919192</td>\n",
       "    </tr>\n",
       "    <tr>\n",
       "      <th>7</th>\n",
       "      <td>BgC</td>\n",
       "      <td>0.958414</td>\n",
       "      <td>0.868217</td>\n",
       "    </tr>\n",
       "    <tr>\n",
       "      <th>3</th>\n",
       "      <td>DT</td>\n",
       "      <td>0.931335</td>\n",
       "      <td>0.825243</td>\n",
       "    </tr>\n",
       "  </tbody>\n",
       "</table>\n",
       "</div>"
      ],
      "text/plain": [
       "   Algorithm  Accuracy  Precision\n",
       "1         KN  0.905222   1.000000\n",
       "2         NB  0.970986   1.000000\n",
       "5         RF  0.975822   0.982906\n",
       "0        SVC  0.975822   0.974790\n",
       "8        ETC  0.974855   0.974576\n",
       "4         LR  0.958414   0.970297\n",
       "10       xgb  0.967118   0.948276\n",
       "6   AdaBoost  0.960348   0.929204\n",
       "9       GBDT  0.946809   0.919192\n",
       "7        BgC  0.958414   0.868217\n",
       "3         DT  0.931335   0.825243"
      ]
     },
     "execution_count": 131,
     "metadata": {},
     "output_type": "execute_result"
    }
   ],
   "source": [
    "performance_df"
   ]
  },
  {
   "cell_type": "code",
   "execution_count": 132,
   "id": "1f524b64-06b8-4d2a-b49e-c8f9c695f667",
   "metadata": {},
   "outputs": [],
   "source": [
    "performance_df1 = pd.melt(performance_df, id_vars = \"Algorithm\")"
   ]
  },
  {
   "cell_type": "code",
   "execution_count": 133,
   "id": "8036c07b-5d42-4b32-8771-1ece3703f4d7",
   "metadata": {},
   "outputs": [
    {
     "data": {
      "text/html": [
       "<div>\n",
       "<style scoped>\n",
       "    .dataframe tbody tr th:only-of-type {\n",
       "        vertical-align: middle;\n",
       "    }\n",
       "\n",
       "    .dataframe tbody tr th {\n",
       "        vertical-align: top;\n",
       "    }\n",
       "\n",
       "    .dataframe thead th {\n",
       "        text-align: right;\n",
       "    }\n",
       "</style>\n",
       "<table border=\"1\" class=\"dataframe\">\n",
       "  <thead>\n",
       "    <tr style=\"text-align: right;\">\n",
       "      <th></th>\n",
       "      <th>Algorithm</th>\n",
       "      <th>variable</th>\n",
       "      <th>value</th>\n",
       "    </tr>\n",
       "  </thead>\n",
       "  <tbody>\n",
       "    <tr>\n",
       "      <th>0</th>\n",
       "      <td>KN</td>\n",
       "      <td>Accuracy</td>\n",
       "      <td>0.905222</td>\n",
       "    </tr>\n",
       "    <tr>\n",
       "      <th>1</th>\n",
       "      <td>NB</td>\n",
       "      <td>Accuracy</td>\n",
       "      <td>0.970986</td>\n",
       "    </tr>\n",
       "    <tr>\n",
       "      <th>2</th>\n",
       "      <td>RF</td>\n",
       "      <td>Accuracy</td>\n",
       "      <td>0.975822</td>\n",
       "    </tr>\n",
       "    <tr>\n",
       "      <th>3</th>\n",
       "      <td>SVC</td>\n",
       "      <td>Accuracy</td>\n",
       "      <td>0.975822</td>\n",
       "    </tr>\n",
       "    <tr>\n",
       "      <th>4</th>\n",
       "      <td>ETC</td>\n",
       "      <td>Accuracy</td>\n",
       "      <td>0.974855</td>\n",
       "    </tr>\n",
       "    <tr>\n",
       "      <th>5</th>\n",
       "      <td>LR</td>\n",
       "      <td>Accuracy</td>\n",
       "      <td>0.958414</td>\n",
       "    </tr>\n",
       "    <tr>\n",
       "      <th>6</th>\n",
       "      <td>xgb</td>\n",
       "      <td>Accuracy</td>\n",
       "      <td>0.967118</td>\n",
       "    </tr>\n",
       "    <tr>\n",
       "      <th>7</th>\n",
       "      <td>AdaBoost</td>\n",
       "      <td>Accuracy</td>\n",
       "      <td>0.960348</td>\n",
       "    </tr>\n",
       "    <tr>\n",
       "      <th>8</th>\n",
       "      <td>GBDT</td>\n",
       "      <td>Accuracy</td>\n",
       "      <td>0.946809</td>\n",
       "    </tr>\n",
       "    <tr>\n",
       "      <th>9</th>\n",
       "      <td>BgC</td>\n",
       "      <td>Accuracy</td>\n",
       "      <td>0.958414</td>\n",
       "    </tr>\n",
       "    <tr>\n",
       "      <th>10</th>\n",
       "      <td>DT</td>\n",
       "      <td>Accuracy</td>\n",
       "      <td>0.931335</td>\n",
       "    </tr>\n",
       "    <tr>\n",
       "      <th>11</th>\n",
       "      <td>KN</td>\n",
       "      <td>Precision</td>\n",
       "      <td>1.000000</td>\n",
       "    </tr>\n",
       "    <tr>\n",
       "      <th>12</th>\n",
       "      <td>NB</td>\n",
       "      <td>Precision</td>\n",
       "      <td>1.000000</td>\n",
       "    </tr>\n",
       "    <tr>\n",
       "      <th>13</th>\n",
       "      <td>RF</td>\n",
       "      <td>Precision</td>\n",
       "      <td>0.982906</td>\n",
       "    </tr>\n",
       "    <tr>\n",
       "      <th>14</th>\n",
       "      <td>SVC</td>\n",
       "      <td>Precision</td>\n",
       "      <td>0.974790</td>\n",
       "    </tr>\n",
       "    <tr>\n",
       "      <th>15</th>\n",
       "      <td>ETC</td>\n",
       "      <td>Precision</td>\n",
       "      <td>0.974576</td>\n",
       "    </tr>\n",
       "    <tr>\n",
       "      <th>16</th>\n",
       "      <td>LR</td>\n",
       "      <td>Precision</td>\n",
       "      <td>0.970297</td>\n",
       "    </tr>\n",
       "    <tr>\n",
       "      <th>17</th>\n",
       "      <td>xgb</td>\n",
       "      <td>Precision</td>\n",
       "      <td>0.948276</td>\n",
       "    </tr>\n",
       "    <tr>\n",
       "      <th>18</th>\n",
       "      <td>AdaBoost</td>\n",
       "      <td>Precision</td>\n",
       "      <td>0.929204</td>\n",
       "    </tr>\n",
       "    <tr>\n",
       "      <th>19</th>\n",
       "      <td>GBDT</td>\n",
       "      <td>Precision</td>\n",
       "      <td>0.919192</td>\n",
       "    </tr>\n",
       "    <tr>\n",
       "      <th>20</th>\n",
       "      <td>BgC</td>\n",
       "      <td>Precision</td>\n",
       "      <td>0.868217</td>\n",
       "    </tr>\n",
       "    <tr>\n",
       "      <th>21</th>\n",
       "      <td>DT</td>\n",
       "      <td>Precision</td>\n",
       "      <td>0.825243</td>\n",
       "    </tr>\n",
       "  </tbody>\n",
       "</table>\n",
       "</div>"
      ],
      "text/plain": [
       "   Algorithm   variable     value\n",
       "0         KN   Accuracy  0.905222\n",
       "1         NB   Accuracy  0.970986\n",
       "2         RF   Accuracy  0.975822\n",
       "3        SVC   Accuracy  0.975822\n",
       "4        ETC   Accuracy  0.974855\n",
       "5         LR   Accuracy  0.958414\n",
       "6        xgb   Accuracy  0.967118\n",
       "7   AdaBoost   Accuracy  0.960348\n",
       "8       GBDT   Accuracy  0.946809\n",
       "9        BgC   Accuracy  0.958414\n",
       "10        DT   Accuracy  0.931335\n",
       "11        KN  Precision  1.000000\n",
       "12        NB  Precision  1.000000\n",
       "13        RF  Precision  0.982906\n",
       "14       SVC  Precision  0.974790\n",
       "15       ETC  Precision  0.974576\n",
       "16        LR  Precision  0.970297\n",
       "17       xgb  Precision  0.948276\n",
       "18  AdaBoost  Precision  0.929204\n",
       "19      GBDT  Precision  0.919192\n",
       "20       BgC  Precision  0.868217\n",
       "21        DT  Precision  0.825243"
      ]
     },
     "execution_count": 133,
     "metadata": {},
     "output_type": "execute_result"
    }
   ],
   "source": [
    "performance_df1"
   ]
  },
  {
   "cell_type": "code",
   "execution_count": 134,
   "id": "a1558c1b-934d-4fb7-9126-3d3a48b0b7ce",
   "metadata": {},
   "outputs": [
    {
     "data": {
      "image/png": "[encoded data removed]",
      "text/plain": [
       "<Figure size 613.5x500 with 1 Axes>"
      ]
     },
     "metadata": {},
     "output_type": "display_data"
    }
   ],
   "source": [
    "sns.catplot(x = 'Algorithm', y='value', \n",
    "               hue = 'variable',data=performance_df1, kind='bar',height=5)\n",
    "plt.ylim(0.5,1.0)\n",
    "plt.xticks(rotation='vertical')\n",
    "plt.show()"
   ]
  },
  {
   "cell_type": "markdown",
   "id": "3cfccfbc-6607-457a-a6ba-13b71e7d5870",
   "metadata": {},
   "source": [
    "#### Model Improve\n",
    "- 1. Change the max_features parameter of TfIdf"
   ]
  },
  {
   "cell_type": "code",
   "execution_count": 135,
   "id": "30aac8e9-d9b1-4bb1-a9a3-4a0c10fce31e",
   "metadata": {},
   "outputs": [],
   "source": [
    "temp_df = pd.DataFrame({'Algorithm':clfs.keys(),'Accuracy_max_ft_3000':accuracy_scores,\n",
    "                        'Precision_max_ft_3000':precision_scores}).sort_values('Precision_max_ft_3000',ascending=False)"
   ]
  },
  {
   "cell_type": "code",
   "execution_count": 136,
   "id": "00223ed8-0843-45ca-9084-27e22c03f952",
   "metadata": {},
   "outputs": [],
   "source": [
    "temp_df = pd.DataFrame({'Algorithm':clfs.keys(),'Accuracy_scaling':accuracy_scores,\n",
    "                        'Precision_scaling':precision_scores}).sort_values('Precision_scaling',ascending=False)"
   ]
  },
  {
   "cell_type": "code",
   "execution_count": 137,
   "id": "46a15baf-792f-4d9a-a1b7-b3b3cb2b4b64",
   "metadata": {},
   "outputs": [],
   "source": [
    "new_df = performance_df.merge(temp_df,on='Algorithm')"
   ]
  },
  {
   "cell_type": "code",
   "execution_count": 138,
   "id": "8cba3165-cde5-4569-a0bc-82eefa151218",
   "metadata": {},
   "outputs": [],
   "source": [
    "new_df_scaled = new_df.merge(temp_df,on='Algorithm')"
   ]
  },
  {
   "cell_type": "code",
   "execution_count": 139,
   "id": "871556f8-7984-4107-a27d-5241db1e30b0",
   "metadata": {},
   "outputs": [],
   "source": [
    "temp_df = pd.DataFrame({'Algorithm':clfs.keys(),'Accuracy_num_chars':accuracy_scores,\n",
    "                        'Precision_num_chars':precision_scores}).sort_values('Precision_num_chars',ascending=False)"
   ]
  },
  {
   "cell_type": "code",
   "execution_count": 140,
   "id": "06e4f2a6-92b7-4d1c-8a54-fc276a95b9c7",
   "metadata": {},
   "outputs": [
    {
     "data": {
      "text/html": [
       "<div>\n",
       "<style scoped>\n",
       "    .dataframe tbody tr th:only-of-type {\n",
       "        vertical-align: middle;\n",
       "    }\n",
       "\n",
       "    .dataframe tbody tr th {\n",
       "        vertical-align: top;\n",
       "    }\n",
       "\n",
       "    .dataframe thead th {\n",
       "        text-align: right;\n",
       "    }\n",
       "</style>\n",
       "<table border=\"1\" class=\"dataframe\">\n",
       "  <thead>\n",
       "    <tr style=\"text-align: right;\">\n",
       "      <th></th>\n",
       "      <th>Algorithm</th>\n",
       "      <th>Accuracy</th>\n",
       "      <th>Precision</th>\n",
       "      <th>Accuracy_scaling_x</th>\n",
       "      <th>Precision_scaling_x</th>\n",
       "      <th>Accuracy_scaling_y</th>\n",
       "      <th>Precision_scaling_y</th>\n",
       "      <th>Accuracy_num_chars</th>\n",
       "      <th>Precision_num_chars</th>\n",
       "    </tr>\n",
       "  </thead>\n",
       "  <tbody>\n",
       "    <tr>\n",
       "      <th>0</th>\n",
       "      <td>KN</td>\n",
       "      <td>0.905222</td>\n",
       "      <td>1.000000</td>\n",
       "      <td>0.905222</td>\n",
       "      <td>1.000000</td>\n",
       "      <td>0.905222</td>\n",
       "      <td>1.000000</td>\n",
       "      <td>0.905222</td>\n",
       "      <td>1.000000</td>\n",
       "    </tr>\n",
       "    <tr>\n",
       "      <th>1</th>\n",
       "      <td>NB</td>\n",
       "      <td>0.970986</td>\n",
       "      <td>1.000000</td>\n",
       "      <td>0.970986</td>\n",
       "      <td>1.000000</td>\n",
       "      <td>0.970986</td>\n",
       "      <td>1.000000</td>\n",
       "      <td>0.970986</td>\n",
       "      <td>1.000000</td>\n",
       "    </tr>\n",
       "    <tr>\n",
       "      <th>2</th>\n",
       "      <td>RF</td>\n",
       "      <td>0.975822</td>\n",
       "      <td>0.982906</td>\n",
       "      <td>0.975822</td>\n",
       "      <td>0.982906</td>\n",
       "      <td>0.975822</td>\n",
       "      <td>0.982906</td>\n",
       "      <td>0.975822</td>\n",
       "      <td>0.982906</td>\n",
       "    </tr>\n",
       "    <tr>\n",
       "      <th>3</th>\n",
       "      <td>SVC</td>\n",
       "      <td>0.975822</td>\n",
       "      <td>0.974790</td>\n",
       "      <td>0.975822</td>\n",
       "      <td>0.974790</td>\n",
       "      <td>0.975822</td>\n",
       "      <td>0.974790</td>\n",
       "      <td>0.975822</td>\n",
       "      <td>0.974790</td>\n",
       "    </tr>\n",
       "    <tr>\n",
       "      <th>4</th>\n",
       "      <td>ETC</td>\n",
       "      <td>0.974855</td>\n",
       "      <td>0.974576</td>\n",
       "      <td>0.974855</td>\n",
       "      <td>0.974576</td>\n",
       "      <td>0.974855</td>\n",
       "      <td>0.974576</td>\n",
       "      <td>0.974855</td>\n",
       "      <td>0.974576</td>\n",
       "    </tr>\n",
       "    <tr>\n",
       "      <th>5</th>\n",
       "      <td>LR</td>\n",
       "      <td>0.958414</td>\n",
       "      <td>0.970297</td>\n",
       "      <td>0.958414</td>\n",
       "      <td>0.970297</td>\n",
       "      <td>0.958414</td>\n",
       "      <td>0.970297</td>\n",
       "      <td>0.958414</td>\n",
       "      <td>0.970297</td>\n",
       "    </tr>\n",
       "    <tr>\n",
       "      <th>6</th>\n",
       "      <td>xgb</td>\n",
       "      <td>0.967118</td>\n",
       "      <td>0.948276</td>\n",
       "      <td>0.967118</td>\n",
       "      <td>0.948276</td>\n",
       "      <td>0.967118</td>\n",
       "      <td>0.948276</td>\n",
       "      <td>0.967118</td>\n",
       "      <td>0.948276</td>\n",
       "    </tr>\n",
       "    <tr>\n",
       "      <th>7</th>\n",
       "      <td>AdaBoost</td>\n",
       "      <td>0.960348</td>\n",
       "      <td>0.929204</td>\n",
       "      <td>0.960348</td>\n",
       "      <td>0.929204</td>\n",
       "      <td>0.960348</td>\n",
       "      <td>0.929204</td>\n",
       "      <td>0.960348</td>\n",
       "      <td>0.929204</td>\n",
       "    </tr>\n",
       "    <tr>\n",
       "      <th>8</th>\n",
       "      <td>GBDT</td>\n",
       "      <td>0.946809</td>\n",
       "      <td>0.919192</td>\n",
       "      <td>0.946809</td>\n",
       "      <td>0.919192</td>\n",
       "      <td>0.946809</td>\n",
       "      <td>0.919192</td>\n",
       "      <td>0.946809</td>\n",
       "      <td>0.919192</td>\n",
       "    </tr>\n",
       "    <tr>\n",
       "      <th>9</th>\n",
       "      <td>BgC</td>\n",
       "      <td>0.958414</td>\n",
       "      <td>0.868217</td>\n",
       "      <td>0.958414</td>\n",
       "      <td>0.868217</td>\n",
       "      <td>0.958414</td>\n",
       "      <td>0.868217</td>\n",
       "      <td>0.958414</td>\n",
       "      <td>0.868217</td>\n",
       "    </tr>\n",
       "    <tr>\n",
       "      <th>10</th>\n",
       "      <td>DT</td>\n",
       "      <td>0.931335</td>\n",
       "      <td>0.825243</td>\n",
       "      <td>0.931335</td>\n",
       "      <td>0.825243</td>\n",
       "      <td>0.931335</td>\n",
       "      <td>0.825243</td>\n",
       "      <td>0.931335</td>\n",
       "      <td>0.825243</td>\n",
       "    </tr>\n",
       "  </tbody>\n",
       "</table>\n",
       "</div>"
      ],
      "text/plain": [
       "   Algorithm  Accuracy  Precision  Accuracy_scaling_x  Precision_scaling_x  \\\n",
       "0         KN  0.905222   1.000000            0.905222             1.000000   \n",
       "1         NB  0.970986   1.000000            0.970986             1.000000   \n",
       "2         RF  0.975822   0.982906            0.975822             0.982906   \n",
       "3        SVC  0.975822   0.974790            0.975822             0.974790   \n",
       "4        ETC  0.974855   0.974576            0.974855             0.974576   \n",
       "5         LR  0.958414   0.970297            0.958414             0.970297   \n",
       "6        xgb  0.967118   0.948276            0.967118             0.948276   \n",
       "7   AdaBoost  0.960348   0.929204            0.960348             0.929204   \n",
       "8       GBDT  0.946809   0.919192            0.946809             0.919192   \n",
       "9        BgC  0.958414   0.868217            0.958414             0.868217   \n",
       "10        DT  0.931335   0.825243            0.931335             0.825243   \n",
       "\n",
       "    Accuracy_scaling_y  Precision_scaling_y  Accuracy_num_chars  \\\n",
       "0             0.905222             1.000000            0.905222   \n",
       "1             0.970986             1.000000            0.970986   \n",
       "2             0.975822             0.982906            0.975822   \n",
       "3             0.975822             0.974790            0.975822   \n",
       "4             0.974855             0.974576            0.974855   \n",
       "5             0.958414             0.970297            0.958414   \n",
       "6             0.967118             0.948276            0.967118   \n",
       "7             0.960348             0.929204            0.960348   \n",
       "8             0.946809             0.919192            0.946809   \n",
       "9             0.958414             0.868217            0.958414   \n",
       "10            0.931335             0.825243            0.931335   \n",
       "\n",
       "    Precision_num_chars  \n",
       "0              1.000000  \n",
       "1              1.000000  \n",
       "2              0.982906  \n",
       "3              0.974790  \n",
       "4              0.974576  \n",
       "5              0.970297  \n",
       "6              0.948276  \n",
       "7              0.929204  \n",
       "8              0.919192  \n",
       "9              0.868217  \n",
       "10             0.825243  "
      ]
     },
     "execution_count": 140,
     "metadata": {},
     "output_type": "execute_result"
    }
   ],
   "source": [
    "new_df_scaled.merge(temp_df,on='Algorithm')"
   ]
  },
  {
   "cell_type": "code",
   "execution_count": 141,
   "id": "0b23e6a0-3240-4597-896b-cbf73172e5de",
   "metadata": {},
   "outputs": [],
   "source": [
    "# Voting Classifier\n",
    "svc = SVC(kernel='sigmoid', gamma=1.0,probability=True)\n",
    "mnb = MultinomialNB()\n",
    "etc = ExtraTreesClassifier(n_estimators=50, random_state=2)\n",
    "\n",
    "from sklearn.ensemble import VotingClassifier"
   ]
  },
  {
   "cell_type": "code",
   "execution_count": 142,
   "id": "0cf9fbd1-0109-4e77-84b3-19e76c1f2d43",
   "metadata": {},
   "outputs": [],
   "source": [
    "voting = VotingClassifier(estimators=[('svm', svc), ('nb', mnb), ('et', etc)],voting='soft')"
   ]
  },
  {
   "cell_type": "code",
   "execution_count": 143,
   "id": "90503c8d-095a-4095-86e8-b895063c11ab",
   "metadata": {},
   "outputs": [
    {
     "data": {
      "text/html": [
       "<style>#sk-container-id-1 {\n",
       "  /* Definition of color scheme common for light and dark mode */\n",
       "  --sklearn-color-text: black;\n",
       "  --sklearn-color-line: gray;\n",
       "  /* Definition of color scheme for unfitted estimators */\n",
       "  --sklearn-color-unfitted-level-0: #fff5e6;\n",
       "  --sklearn-color-unfitted-level-1: #f6e4d2;\n",
       "  --sklearn-color-unfitted-level-2: #ffe0b3;\n",
       "  --sklearn-color-unfitted-level-3: chocolate;\n",
       "  /* Definition of color scheme for fitted estimators */\n",
       "  --sklearn-color-fitted-level-0: #f0f8ff;\n",
       "  --sklearn-color-fitted-level-1: #d4ebff;\n",
       "  --sklearn-color-fitted-level-2: #b3dbfd;\n",
       "  --sklearn-color-fitted-level-3: cornflowerblue;\n",
       "\n",
       "  /* Specific color for light theme */\n",
       "  --sklearn-color-text-on-default-background: var(--sg-text-color, var(--theme-code-foreground, var(--jp-content-font-color1, black)));\n",
       "  --sklearn-color-background: var(--sg-background-color, var(--theme-background, var(--jp-layout-color0, white)));\n",
       "  --sklearn-color-border-box: var(--sg-text-color, var(--theme-code-foreground, var(--jp-content-font-color1, black)));\n",
       "  --sklearn-color-icon: #696969;\n",
       "\n",
       "  @media (prefers-color-scheme: dark) {\n",
       "    /* Redefinition of color scheme for dark theme */\n",
       "    --sklearn-color-text-on-default-background: var(--sg-text-color, var(--theme-code-foreground, var(--jp-content-font-color1, white)));\n",
       "    --sklearn-color-background: var(--sg-background-color, var(--theme-background, var(--jp-layout-color0, #111)));\n",
       "    --sklearn-color-border-box: var(--sg-text-color, var(--theme-code-foreground, var(--jp-content-font-color1, white)));\n",
       "    --sklearn-color-icon: #878787;\n",
       "  }\n",
       "}\n",
       "\n",
       "#sk-container-id-1 {\n",
       "  color: var(--sklearn-color-text);\n",
       "}\n",
       "\n",
       "#sk-container-id-1 pre {\n",
       "  padding: 0;\n",
       "}\n",
       "\n",
       "#sk-container-id-1 input.sk-hidden--visually {\n",
       "  border: 0;\n",
       "  clip: rect(1px 1px 1px 1px);\n",
       "  clip: rect(1px, 1px, 1px, 1px);\n",
       "  height: 1px;\n",
       "  margin: -1px;\n",
       "  overflow: hidden;\n",
       "  padding: 0;\n",
       "  position: absolute;\n",
       "  width: 1px;\n",
       "}\n",
       "\n",
       "#sk-container-id-1 div.sk-dashed-wrapped {\n",
       "  border: 1px dashed var(--sklearn-color-line);\n",
       "  margin: 0 0.4em 0.5em 0.4em;\n",
       "  box-sizing: border-box;\n",
       "  padding-bottom: 0.4em;\n",
       "  background-color: var(--sklearn-color-background);\n",
       "}\n",
       "\n",
       "#sk-container-id-1 div.sk-container {\n",
       "  /* jupyter's `normalize.less` sets `[hidden] { display: none; }`\n",
       "     but bootstrap.min.css set `[hidden] { display: none !important; }`\n",
       "     so we also need the `!important` here to be able to override the\n",
       "     default hidden behavior on the sphinx rendered scikit-learn.org.\n",
       "     See: https://github.com/scikit-learn/scikit-learn/issues/21755 */\n",
       "  display: inline-block !important;\n",
       "  position: relative;\n",
       "}\n",
       "\n",
       "#sk-container-id-1 div.sk-text-repr-fallback {\n",
       "  display: none;\n",
       "}\n",
       "\n",
       "div.sk-parallel-item,\n",
       "div.sk-serial,\n",
       "div.sk-item {\n",
       "  /* draw centered vertical line to link estimators */\n",
       "  background-image: linear-gradient(var(--sklearn-color-text-on-default-background), var(--sklearn-color-text-on-default-background));\n",
       "  background-size: 2px 100%;\n",
       "  background-repeat: no-repeat;\n",
       "  background-position: center center;\n",
       "}\n",
       "\n",
       "/* Parallel-specific style estimator block */\n",
       "\n",
       "#sk-container-id-1 div.sk-parallel-item::after {\n",
       "  content: \"\";\n",
       "  width: 100%;\n",
       "  border-bottom: 2px solid var(--sklearn-color-text-on-default-background);\n",
       "  flex-grow: 1;\n",
       "}\n",
       "\n",
       "#sk-container-id-1 div.sk-parallel {\n",
       "  display: flex;\n",
       "  align-items: stretch;\n",
       "  justify-content: center;\n",
       "  background-color: var(--sklearn-color-background);\n",
       "  position: relative;\n",
       "}\n",
       "\n",
       "#sk-container-id-1 div.sk-parallel-item {\n",
       "  display: flex;\n",
       "  flex-direction: column;\n",
       "}\n",
       "\n",
       "#sk-container-id-1 div.sk-parallel-item:first-child::after {\n",
       "  align-self: flex-end;\n",
       "  width: 50%;\n",
       "}\n",
       "\n",
       "#sk-container-id-1 div.sk-parallel-item:last-child::after {\n",
       "  align-self: flex-start;\n",
       "  width: 50%;\n",
       "}\n",
       "\n",
       "#sk-container-id-1 div.sk-parallel-item:only-child::after {\n",
       "  width: 0;\n",
       "}\n",
       "\n",
       "/* Serial-specific style estimator block */\n",
       "\n",
       "#sk-container-id-1 div.sk-serial {\n",
       "  display: flex;\n",
       "  flex-direction: column;\n",
       "  align-items: center;\n",
       "  background-color: var(--sklearn-color-background);\n",
       "  padding-right: 1em;\n",
       "  padding-left: 1em;\n",
       "}\n",
       "\n",
       "\n",
       "/* Toggleable style: style used for estimator/Pipeline/ColumnTransformer box that is\n",
       "clickable and can be expanded/collapsed.\n",
       "- Pipeline and ColumnTransformer use this feature and define the default style\n",
       "- Estimators will overwrite some part of the style using the `sk-estimator` class\n",
       "*/\n",
       "\n",
       "/* Pipeline and ColumnTransformer style (default) */\n",
       "\n",
       "#sk-container-id-1 div.sk-toggleable {\n",
       "  /* Default theme specific background. It is overwritten whether we have a\n",
       "  specific estimator or a Pipeline/ColumnTransformer */\n",
       "  background-color: var(--sklearn-color-background);\n",
       "}\n",
       "\n",
       "/* Toggleable label */\n",
       "#sk-container-id-1 label.sk-toggleable__label {\n",
       "  cursor: pointer;\n",
       "  display: block;\n",
       "  width: 100%;\n",
       "  margin-bottom: 0;\n",
       "  padding: 0.5em;\n",
       "  box-sizing: border-box;\n",
       "  text-align: center;\n",
       "}\n",
       "\n",
       "#sk-container-id-1 label.sk-toggleable__label-arrow:before {\n",
       "  /* Arrow on the left of the label */\n",
       "  content: \"▸\";\n",
       "  float: left;\n",
       "  margin-right: 0.25em;\n",
       "  color: var(--sklearn-color-icon);\n",
       "}\n",
       "\n",
       "#sk-container-id-1 label.sk-toggleable__label-arrow:hover:before {\n",
       "  color: var(--sklearn-color-text);\n",
       "}\n",
       "\n",
       "/* Toggleable content - dropdown */\n",
       "\n",
       "#sk-container-id-1 div.sk-toggleable__content {\n",
       "  max-height: 0;\n",
       "  max-width: 0;\n",
       "  overflow: hidden;\n",
       "  text-align: left;\n",
       "  /* unfitted */\n",
       "  background-color: var(--sklearn-color-unfitted-level-0);\n",
       "}\n",
       "\n",
       "#sk-container-id-1 div.sk-toggleable__content.fitted {\n",
       "  /* fitted */\n",
       "  background-color: var(--sklearn-color-fitted-level-0);\n",
       "}\n",
       "\n",
       "#sk-container-id-1 div.sk-toggleable__content pre {\n",
       "  margin: 0.2em;\n",
       "  border-radius: 0.25em;\n",
       "  color: var(--sklearn-color-text);\n",
       "  /* unfitted */\n",
       "  background-color: var(--sklearn-color-unfitted-level-0);\n",
       "}\n",
       "\n",
       "#sk-container-id-1 div.sk-toggleable__content.fitted pre {\n",
       "  /* unfitted */\n",
       "  background-color: var(--sklearn-color-fitted-level-0);\n",
       "}\n",
       "\n",
       "#sk-container-id-1 input.sk-toggleable__control:checked~div.sk-toggleable__content {\n",
       "  /* Expand drop-down */\n",
       "  max-height: 200px;\n",
       "  max-width: 100%;\n",
       "  overflow: auto;\n",
       "}\n",
       "\n",
       "#sk-container-id-1 input.sk-toggleable__control:checked~label.sk-toggleable__label-arrow:before {\n",
       "  content: \"▾\";\n",
       "}\n",
       "\n",
       "/* Pipeline/ColumnTransformer-specific style */\n",
       "\n",
       "#sk-container-id-1 div.sk-label input.sk-toggleable__control:checked~label.sk-toggleable__label {\n",
       "  color: var(--sklearn-color-text);\n",
       "  background-color: var(--sklearn-color-unfitted-level-2);\n",
       "}\n",
       "\n",
       "#sk-container-id-1 div.sk-label.fitted input.sk-toggleable__control:checked~label.sk-toggleable__label {\n",
       "  background-color: var(--sklearn-color-fitted-level-2);\n",
       "}\n",
       "\n",
       "/* Estimator-specific style */\n",
       "\n",
       "/* Colorize estimator box */\n",
       "#sk-container-id-1 div.sk-estimator input.sk-toggleable__control:checked~label.sk-toggleable__label {\n",
       "  /* unfitted */\n",
       "  background-color: var(--sklearn-color-unfitted-level-2);\n",
       "}\n",
       "\n",
       "#sk-container-id-1 div.sk-estimator.fitted input.sk-toggleable__control:checked~label.sk-toggleable__label {\n",
       "  /* fitted */\n",
       "  background-color: var(--sklearn-color-fitted-level-2);\n",
       "}\n",
       "\n",
       "#sk-container-id-1 div.sk-label label.sk-toggleable__label,\n",
       "#sk-container-id-1 div.sk-label label {\n",
       "  /* The background is the default theme color */\n",
       "  color: var(--sklearn-color-text-on-default-background);\n",
       "}\n",
       "\n",
       "/* On hover, darken the color of the background */\n",
       "#sk-container-id-1 div.sk-label:hover label.sk-toggleable__label {\n",
       "  color: var(--sklearn-color-text);\n",
       "  background-color: var(--sklearn-color-unfitted-level-2);\n",
       "}\n",
       "\n",
       "/* Label box, darken color on hover, fitted */\n",
       "#sk-container-id-1 div.sk-label.fitted:hover label.sk-toggleable__label.fitted {\n",
       "  color: var(--sklearn-color-text);\n",
       "  background-color: var(--sklearn-color-fitted-level-2);\n",
       "}\n",
       "\n",
       "/* Estimator label */\n",
       "\n",
       "#sk-container-id-1 div.sk-label label {\n",
       "  font-family: monospace;\n",
       "  font-weight: bold;\n",
       "  display: inline-block;\n",
       "  line-height: 1.2em;\n",
       "}\n",
       "\n",
       "#sk-container-id-1 div.sk-label-container {\n",
       "  text-align: center;\n",
       "}\n",
       "\n",
       "/* Estimator-specific */\n",
       "#sk-container-id-1 div.sk-estimator {\n",
       "  font-family: monospace;\n",
       "  border: 1px dotted var(--sklearn-color-border-box);\n",
       "  border-radius: 0.25em;\n",
       "  box-sizing: border-box;\n",
       "  margin-bottom: 0.5em;\n",
       "  /* unfitted */\n",
       "  background-color: var(--sklearn-color-unfitted-level-0);\n",
       "}\n",
       "\n",
       "#sk-container-id-1 div.sk-estimator.fitted {\n",
       "  /* fitted */\n",
       "  background-color: var(--sklearn-color-fitted-level-0);\n",
       "}\n",
       "\n",
       "/* on hover */\n",
       "#sk-container-id-1 div.sk-estimator:hover {\n",
       "  /* unfitted */\n",
       "  background-color: var(--sklearn-color-unfitted-level-2);\n",
       "}\n",
       "\n",
       "#sk-container-id-1 div.sk-estimator.fitted:hover {\n",
       "  /* fitted */\n",
       "  background-color: var(--sklearn-color-fitted-level-2);\n",
       "}\n",
       "\n",
       "/* Specification for estimator info (e.g. \"i\" and \"?\") */\n",
       "\n",
       "/* Common style for \"i\" and \"?\" */\n",
       "\n",
       ".sk-estimator-doc-link,\n",
       "a:link.sk-estimator-doc-link,\n",
       "a:visited.sk-estimator-doc-link {\n",
       "  float: right;\n",
       "  font-size: smaller;\n",
       "  line-height: 1em;\n",
       "  font-family: monospace;\n",
       "  background-color: var(--sklearn-color-background);\n",
       "  border-radius: 1em;\n",
       "  height: 1em;\n",
       "  width: 1em;\n",
       "  text-decoration: none !important;\n",
       "  margin-left: 1ex;\n",
       "  /* unfitted */\n",
       "  border: var(--sklearn-color-unfitted-level-1) 1pt solid;\n",
       "  color: var(--sklearn-color-unfitted-level-1);\n",
       "}\n",
       "\n",
       ".sk-estimator-doc-link.fitted,\n",
       "a:link.sk-estimator-doc-link.fitted,\n",
       "a:visited.sk-estimator-doc-link.fitted {\n",
       "  /* fitted */\n",
       "  border: var(--sklearn-color-fitted-level-1) 1pt solid;\n",
       "  color: var(--sklearn-color-fitted-level-1);\n",
       "}\n",
       "\n",
       "/* On hover */\n",
       "div.sk-estimator:hover .sk-estimator-doc-link:hover,\n",
       ".sk-estimator-doc-link:hover,\n",
       "div.sk-label-container:hover .sk-estimator-doc-link:hover,\n",
       ".sk-estimator-doc-link:hover {\n",
       "  /* unfitted */\n",
       "  background-color: var(--sklearn-color-unfitted-level-3);\n",
       "  color: var(--sklearn-color-background);\n",
       "  text-decoration: none;\n",
       "}\n",
       "\n",
       "div.sk-estimator.fitted:hover .sk-estimator-doc-link.fitted:hover,\n",
       ".sk-estimator-doc-link.fitted:hover,\n",
       "div.sk-label-container:hover .sk-estimator-doc-link.fitted:hover,\n",
       ".sk-estimator-doc-link.fitted:hover {\n",
       "  /* fitted */\n",
       "  background-color: var(--sklearn-color-fitted-level-3);\n",
       "  color: var(--sklearn-color-background);\n",
       "  text-decoration: none;\n",
       "}\n",
       "\n",
       "/* Span, style for the box shown on hovering the info icon */\n",
       ".sk-estimator-doc-link span {\n",
       "  display: none;\n",
       "  z-index: 9999;\n",
       "  position: relative;\n",
       "  font-weight: normal;\n",
       "  right: .2ex;\n",
       "  padding: .5ex;\n",
       "  margin: .5ex;\n",
       "  width: min-content;\n",
       "  min-width: 20ex;\n",
       "  max-width: 50ex;\n",
       "  color: var(--sklearn-color-text);\n",
       "  box-shadow: 2pt 2pt 4pt #999;\n",
       "  /* unfitted */\n",
       "  background: var(--sklearn-color-unfitted-level-0);\n",
       "  border: .5pt solid var(--sklearn-color-unfitted-level-3);\n",
       "}\n",
       "\n",
       ".sk-estimator-doc-link.fitted span {\n",
       "  /* fitted */\n",
       "  background: var(--sklearn-color-fitted-level-0);\n",
       "  border: var(--sklearn-color-fitted-level-3);\n",
       "}\n",
       "\n",
       ".sk-estimator-doc-link:hover span {\n",
       "  display: block;\n",
       "}\n",
       "\n",
       "/* \"?\"-specific style due to the `<a>` HTML tag */\n",
       "\n",
       "#sk-container-id-1 a.estimator_doc_link {\n",
       "  float: right;\n",
       "  font-size: 1rem;\n",
       "  line-height: 1em;\n",
       "  font-family: monospace;\n",
       "  background-color: var(--sklearn-color-background);\n",
       "  border-radius: 1rem;\n",
       "  height: 1rem;\n",
       "  width: 1rem;\n",
       "  text-decoration: none;\n",
       "  /* unfitted */\n",
       "  color: var(--sklearn-color-unfitted-level-1);\n",
       "  border: var(--sklearn-color-unfitted-level-1) 1pt solid;\n",
       "}\n",
       "\n",
       "#sk-container-id-1 a.estimator_doc_link.fitted {\n",
       "  /* fitted */\n",
       "  border: var(--sklearn-color-fitted-level-1) 1pt solid;\n",
       "  color: var(--sklearn-color-fitted-level-1);\n",
       "}\n",
       "\n",
       "/* On hover */\n",
       "#sk-container-id-1 a.estimator_doc_link:hover {\n",
       "  /* unfitted */\n",
       "  background-color: var(--sklearn-color-unfitted-level-3);\n",
       "  color: var(--sklearn-color-background);\n",
       "  text-decoration: none;\n",
       "}\n",
       "\n",
       "#sk-container-id-1 a.estimator_doc_link.fitted:hover {\n",
       "  /* fitted */\n",
       "  background-color: var(--sklearn-color-fitted-level-3);\n",
       "}\n",
       "</style><div id=\"sk-container-id-1\" class=\"sk-top-container\"><div class=\"sk-text-repr-fallback\"><pre>VotingClassifier(estimators=[(&#x27;svm&#x27;,\n",
       "                              SVC(gamma=1.0, kernel=&#x27;sigmoid&#x27;,\n",
       "                                  probability=True)),\n",
       "                             (&#x27;nb&#x27;, MultinomialNB()),\n",
       "                             (&#x27;et&#x27;,\n",
       "                              ExtraTreesClassifier(n_estimators=50,\n",
       "                                                   random_state=2))],\n",
       "                 voting=&#x27;soft&#x27;)</pre><b>In a Jupyter environment, please rerun this cell to show the HTML representation or trust the notebook. <br />On GitHub, the HTML representation is unable to render, please try loading this page with nbviewer.org.</b></div><div class=\"sk-container\" hidden><div class=\"sk-item sk-dashed-wrapped\"><div class=\"sk-label-container\"><div class=\"sk-label fitted sk-toggleable\"><input class=\"sk-toggleable__control sk-hidden--visually\" id=\"sk-estimator-id-1\" type=\"checkbox\" ><label for=\"sk-estimator-id-1\" class=\"sk-toggleable__label fitted sk-toggleable__label-arrow fitted\">&nbsp;&nbsp;VotingClassifier<a class=\"sk-estimator-doc-link fitted\" rel=\"noreferrer\" target=\"_blank\" href=\"https://scikit-learn.org/1.5/modules/generated/sklearn.ensemble.VotingClassifier.html\">?<span>Documentation for VotingClassifier</span></a><span class=\"sk-estimator-doc-link fitted\">i<span>Fitted</span></span></label><div class=\"sk-toggleable__content fitted\"><pre>VotingClassifier(estimators=[(&#x27;svm&#x27;,\n",
       "                              SVC(gamma=1.0, kernel=&#x27;sigmoid&#x27;,\n",
       "                                  probability=True)),\n",
       "                             (&#x27;nb&#x27;, MultinomialNB()),\n",
       "                             (&#x27;et&#x27;,\n",
       "                              ExtraTreesClassifier(n_estimators=50,\n",
       "                                                   random_state=2))],\n",
       "                 voting=&#x27;soft&#x27;)</pre></div> </div></div><div class=\"sk-parallel\"><div class=\"sk-parallel-item\"><div class=\"sk-item\"><div class=\"sk-label-container\"><div class=\"sk-label fitted sk-toggleable\"><label>svm</label></div></div><div class=\"sk-serial\"><div class=\"sk-item\"><div class=\"sk-estimator fitted sk-toggleable\"><input class=\"sk-toggleable__control sk-hidden--visually\" id=\"sk-estimator-id-2\" type=\"checkbox\" ><label for=\"sk-estimator-id-2\" class=\"sk-toggleable__label fitted sk-toggleable__label-arrow fitted\">&nbsp;SVC<a class=\"sk-estimator-doc-link fitted\" rel=\"noreferrer\" target=\"_blank\" href=\"https://scikit-learn.org/1.5/modules/generated/sklearn.svm.SVC.html\">?<span>Documentation for SVC</span></a></label><div class=\"sk-toggleable__content fitted\"><pre>SVC(gamma=1.0, kernel=&#x27;sigmoid&#x27;, probability=True)</pre></div> </div></div></div></div></div><div class=\"sk-parallel-item\"><div class=\"sk-item\"><div class=\"sk-label-container\"><div class=\"sk-label fitted sk-toggleable\"><label>nb</label></div></div><div class=\"sk-serial\"><div class=\"sk-item\"><div class=\"sk-estimator fitted sk-toggleable\"><input class=\"sk-toggleable__control sk-hidden--visually\" id=\"sk-estimator-id-3\" type=\"checkbox\" ><label for=\"sk-estimator-id-3\" class=\"sk-toggleable__label fitted sk-toggleable__label-arrow fitted\">&nbsp;MultinomialNB<a class=\"sk-estimator-doc-link fitted\" rel=\"noreferrer\" target=\"_blank\" href=\"https://scikit-learn.org/1.5/modules/generated/sklearn.naive_bayes.MultinomialNB.html\">?<span>Documentation for MultinomialNB</span></a></label><div class=\"sk-toggleable__content fitted\"><pre>MultinomialNB()</pre></div> </div></div></div></div></div><div class=\"sk-parallel-item\"><div class=\"sk-item\"><div class=\"sk-label-container\"><div class=\"sk-label fitted sk-toggleable\"><label>et</label></div></div><div class=\"sk-serial\"><div class=\"sk-item\"><div class=\"sk-estimator fitted sk-toggleable\"><input class=\"sk-toggleable__control sk-hidden--visually\" id=\"sk-estimator-id-4\" type=\"checkbox\" ><label for=\"sk-estimator-id-4\" class=\"sk-toggleable__label fitted sk-toggleable__label-arrow fitted\">&nbsp;ExtraTreesClassifier<a class=\"sk-estimator-doc-link fitted\" rel=\"noreferrer\" target=\"_blank\" href=\"https://scikit-learn.org/1.5/modules/generated/sklearn.ensemble.ExtraTreesClassifier.html\">?<span>Documentation for ExtraTreesClassifier</span></a></label><div class=\"sk-toggleable__content fitted\"><pre>ExtraTreesClassifier(n_estimators=50, random_state=2)</pre></div> </div></div></div></div></div></div></div></div></div>"
      ],
      "text/plain": [
       "VotingClassifier(estimators=[('svm',\n",
       "                              SVC(gamma=1.0, kernel='sigmoid',\n",
       "                                  probability=True)),\n",
       "                             ('nb', MultinomialNB()),\n",
       "                             ('et',\n",
       "                              ExtraTreesClassifier(n_estimators=50,\n",
       "                                                   random_state=2))],\n",
       "                 voting='soft')"
      ]
     },
     "execution_count": 143,
     "metadata": {},
     "output_type": "execute_result"
    }
   ],
   "source": [
    "voting.fit(X_train,y_train)"
   ]
  },
  {
   "cell_type": "code",
   "execution_count": 144,
   "id": "c3ba7c0b-df05-4813-8135-09a0a0c38534",
   "metadata": {},
   "outputs": [
    {
     "name": "stdout",
     "output_type": "stream",
     "text": [
      "Accuracy 0.9816247582205029\n",
      "Precision 0.9917355371900827\n"
     ]
    }
   ],
   "source": [
    "y_pred = voting.predict(X_test)\n",
    "print(\"Accuracy\",accuracy_score(y_test,y_pred))\n",
    "print(\"Precision\",precision_score(y_test,y_pred))"
   ]
  },
  {
   "cell_type": "markdown",
   "id": "9c1e1950-f791-4994-b113-a289d24416d5",
   "metadata": {},
   "source": [
    "- As in this project precision score is more importent than the accuracy. But the voting calssifier doesnot give a batter result that naive based, so we take NB.\n",
    "- Now applying stacking, let's see if it could perform best"
   ]
  },
  {
   "cell_type": "code",
   "execution_count": 145,
   "id": "5449db49-1f27-4f9f-99e2-404eed87d06e",
   "metadata": {},
   "outputs": [],
   "source": [
    "estimators=[('svm', svc), ('nb', mnb), ('et', etc)]\n",
    "final_estimator=RandomForestClassifier()"
   ]
  },
  {
   "cell_type": "code",
   "execution_count": 146,
   "id": "e6a21ba2-90fe-41e1-b7d8-7c414735de8d",
   "metadata": {},
   "outputs": [],
   "source": [
    "from sklearn.ensemble import StackingClassifier"
   ]
  },
  {
   "cell_type": "code",
   "execution_count": 147,
   "id": "b5917bcf-45b5-4f68-9628-73e0d501f4a8",
   "metadata": {},
   "outputs": [],
   "source": [
    "clf = StackingClassifier(estimators=estimators, final_estimator=final_estimator)"
   ]
  },
  {
   "cell_type": "code",
   "execution_count": 148,
   "id": "87a2e6b6-d26c-4d73-b28c-5b3a6290c513",
   "metadata": {},
   "outputs": [
    {
     "name": "stdout",
     "output_type": "stream",
     "text": [
      "Accuracy 0.9787234042553191\n",
      "Precision 0.9393939393939394\n"
     ]
    }
   ],
   "source": [
    "clf.fit(X_train,y_train)\n",
    "y_pred = clf.predict(X_test)\n",
    "print(\"Accuracy\",accuracy_score(y_test,y_pred))\n",
    "print(\"Precision\",precision_score(y_test,y_pred))"
   ]
  },
  {
   "cell_type": "markdown",
   "id": "d161db45-f063-4d26-8e38-cba0f24aa345",
   "metadata": {},
   "source": [
    "- as it also does not perform better so we go with NB"
   ]
  },
  {
   "cell_type": "code",
   "execution_count": 160,
   "id": "27b618db-3017-4b37-9997-f71f4cba78db",
   "metadata": {},
   "outputs": [],
   "source": [
    "import pickle\n",
    "pickle.dump(tfidf,open('vectorizer.pkl','wb')) # wb= write binary\n",
    "pickle.dump(mnb,open('model.pkl','wb'))"
   ]
  },
  {
   "cell_type": "code",
   "execution_count": null,
   "id": "03260613-3adc-458f-8837-c363fe26efd7",
   "metadata": {},
   "outputs": [],
   "source": []
  }
 ],
 "metadata": {
  "kernelspec": {
   "display_name": "Python 3 (ipykernel)",
   "language": "python",
   "name": "python3"
  },
  "language_info": {
   "codemirror_mode": {
    "name": "ipython",
    "version": 3
   },
   "file_extension": ".py",
   "mimetype": "text/x-python",
   "name": "python",
   "nbconvert_exporter": "python",
   "pygments_lexer": "ipython3",
   "version": "3.12.3"
  }
 },
 "nbformat": 4,
 "nbformat_minor": 5
}
